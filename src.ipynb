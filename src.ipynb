{
 "cells": [
  {
   "cell_type": "markdown",
   "id": "724578df-706f-445a-8320-5374347a0ec4",
   "metadata": {},
   "source": [
    "# Loan Eligibility"
   ]
  },
  {
   "cell_type": "markdown",
   "id": "f4f6a372-466d-45fa-bff4-fcbbf9ccd752",
   "metadata": {},
   "source": [
    "The task simulates a set of clients. Some of them are financially OK, but others are running out of money. Your task is to identify clients, whom we can help by offering them a loan. Your tasks are:\n",
    "1. Look into the customers.parquet file. Calculate average age.\n",
    "2. Explore the customers.parquet file. How’s the data quality?\n",
    "3. Examine the loans.parquet file. Can you spot some possible discrimination?\n",
    "4. The transactions file contains customer transactions. You’ll soon be asked to train a model - explain your approach to using this data, and calculate the necessary features.\n",
    "5. Use the available datasets to create train and validation datasets for the task of iden- tifying, which clients should we approach with a loan offer.\n",
    "6. Train and evaluate a machine learning model for the aforementioned task. Explain your approach as much as possible.\n",
    "7. Hypothetically, could you improve the solution? What would you require for it?"
   ]
  },
  {
   "cell_type": "code",
   "execution_count": 1,
   "id": "54c2f3ed-3452-4720-8baf-7a5bc3400185",
   "metadata": {},
   "outputs": [],
   "source": [
    "# Import packages\n",
    "import pandas as pd\n",
    "import numpy as np\n",
    "import matplotlib.pyplot as plt\n",
    "import seaborn as sns\n",
    "from sklearn import metrics\n",
    "from sklearn.model_selection import train_test_split, cross_val_score\n",
    "from sklearn.linear_model import LogisticRegression\n",
    "from sklearn.metrics import accuracy_score\n",
    "from sklearn.metrics import auc, roc_auc_score, roc_curve"
   ]
  },
  {
   "cell_type": "code",
   "execution_count": 2,
   "id": "6d410ae1-9acb-4f31-93a8-f6a50c79bc67",
   "metadata": {},
   "outputs": [
    {
     "name": "stdout",
     "output_type": "stream",
     "text": [
      "Shapes of the datasets:\n",
      "customers:  (2500, 4)\n",
      "loans:  (3203, 4)\n",
      "transactions:  (91931, 4)\n",
      " \n",
      "Headers of the datasets:\n",
      "Customers:\n",
      "         ID GENDER  AGE   INCOME\n",
      "0  M5FQZHG1      F   37  10843.0\n",
      "1  JPOALDTW      M   38   9419.0\n",
      "2  QHJXRE6A      M   37  10850.0\n",
      "3  LKS17XRW      M   35  10107.0\n",
      "4  V5UPOIAW      F   34  10323.0\n",
      " \n",
      "Loans:\n",
      "            ID        DATE  AMOUNT   OUTCOME\n",
      "1351  LG0PC60M  2022-04-27   24415  Declined\n",
      "5     YNRVXFHU  2022-01-24   24883  Declined\n",
      "1437  IQIT/RIF  2022-04-16   21650  Declined\n",
      "1064  ZQYTNBWX  2022-03-09   19822  Declined\n",
      "1956  JZHEH32O  2022-05-15   17996  Declined\n",
      " \n",
      "Transactions:\n",
      "              ID        DATE  AMOUNT  BALANCE\n",
      "186724  HW6AIBVF  2022-07-23   -3033  17811.0\n",
      "209157  JYMG2Q4S  2022-08-17    -777   8558.0\n",
      "189985  BUETXTEY  2022-07-27    -501  26641.0\n",
      "182248  O+AEF2OT  2022-07-18     -64      NaN\n",
      "130378  TFHGRG46  2022-05-20   -1335      NaN\n"
     ]
    }
   ],
   "source": [
    "# Read files and look at the shapes and the relative headers\n",
    "df_customers = pd.read_parquet('customers.parquet', engine='pyarrow')\n",
    "df_loans = pd.read_parquet('loans.parquet', engine='pyarrow')\n",
    "df_transactions = pd.read_parquet('transactions.parquet', engine='pyarrow')\n",
    "print('Shapes of the datasets:')\n",
    "print('customers: ', df_customers.shape)\n",
    "print('loans: ', df_loans.shape)\n",
    "print('transactions: ', df_transactions.shape)\n",
    "\n",
    "print(' ')\n",
    "\n",
    "print('Headers of the datasets:')\n",
    "print('Customers:')\n",
    "print(df_customers.head())\n",
    "print(' ')\n",
    "\n",
    "print('Loans:')\n",
    "print(df_loans.head())\n",
    "print(' ')\n",
    "\n",
    "print('Transactions:')\n",
    "print(df_transactions.head())"
   ]
  },
  {
   "cell_type": "code",
   "execution_count": 3,
   "id": "b9faec13-b079-4b05-a5dc-342aa9b8a784",
   "metadata": {},
   "outputs": [
    {
     "name": "stdout",
     "output_type": "stream",
     "text": [
      "Customers columns types\n",
      "ID         object\n",
      "GENDER     object\n",
      "AGE         int64\n",
      "INCOME    float64\n",
      "dtype: object\n",
      " \n",
      "Loans columns types\n",
      "ID         object\n",
      "DATE       object\n",
      "AMOUNT      int64\n",
      "OUTCOME    object\n",
      "dtype: object\n",
      " \n",
      "Transactions columns types\n",
      "ID          object\n",
      "DATE        object\n",
      "AMOUNT       int64\n",
      "BALANCE    float64\n",
      "dtype: object\n"
     ]
    }
   ],
   "source": [
    "# Check Data types of the columns for each df\n",
    "print('Customers columns types')\n",
    "print(df_customers.dtypes)\n",
    "print(' ')\n",
    "\n",
    "print('Loans columns types')\n",
    "print(df_loans.dtypes)\n",
    "print(' ')\n",
    "\n",
    "print('Transactions columns types')\n",
    "print(df_transactions.dtypes)"
   ]
  },
  {
   "cell_type": "markdown",
   "id": "6a8202e7-275c-487f-8827-e5707572f8a3",
   "metadata": {
    "tags": []
   },
   "source": [
    "# QUESTION 1: Look into the customers.parquet file. Calculate average age"
   ]
  },
  {
   "cell_type": "code",
   "execution_count": 4,
   "id": "e52e39f0-e04b-4c34-9d09-c2a993b44e03",
   "metadata": {},
   "outputs": [
    {
     "name": "stdout",
     "output_type": "stream",
     "text": [
      "Number of NaN values in Age:  0\n",
      "Average age for ID in Customers:  859027.8408\n"
     ]
    }
   ],
   "source": [
    "# Check NaN in AGE \n",
    "print('Number of NaN values in Age: ', df_customers['AGE'].isna().sum())\n",
    "print('Average age for ID in Customers: ', np.mean(df_customers.AGE))"
   ]
  },
  {
   "cell_type": "markdown",
   "id": "e02686ff-8dcc-4155-b685-245e8d0c4ac5",
   "metadata": {},
   "source": [
    "The mean gives back an absurd value. I will check the age range among the customers"
   ]
  },
  {
   "cell_type": "code",
   "execution_count": 5,
   "id": "395ee2fa-954a-4fbf-ae74-c7577a5e0134",
   "metadata": {},
   "outputs": [
    {
     "name": "stdout",
     "output_type": "stream",
     "text": [
      "Lower age:  19\n",
      "Maximum age:  2147483647\n",
      "Std age:  42949672.25208513\n",
      "Number of people with age equal to or above 100: 1\n"
     ]
    }
   ],
   "source": [
    "# Print min, max, std age to see the range of age in the df\n",
    "print('Lower age: ', np.min(df_customers.AGE))\n",
    "print('Maximum age: ', np.max(df_customers.AGE))\n",
    "print('Std age: ', df_customers.AGE.std())\n",
    "print(\"Number of people with age equal to or above 100:\", len(df_customers[df_customers['AGE'] > 100]))"
   ]
  },
  {
   "cell_type": "markdown",
   "id": "8cb828a0-5d51-47ca-9bd2-290dabd9fe4a",
   "metadata": {},
   "source": [
    "The mean is affected by an absurd value imputed to one customer. I will check the distribution to see the realistic range of ages among the customers"
   ]
  },
  {
   "cell_type": "code",
   "execution_count": 6,
   "id": "f2e1684e-76be-4dae-97a6-caae1cf3daef",
   "metadata": {
    "tags": []
   },
   "outputs": [
    {
     "data": {
      "image/png": "[encoded data removed]",
      "text/plain": [
       "<Figure size 360x360 with 1 Axes>"
      ]
     },
     "metadata": {
      "needs_background": "light"
     },
     "output_type": "display_data"
    }
   ],
   "source": [
    "# Check the distribution removing values above 100 in order to verify the quality of the column AGE\n",
    "# Filter the DataFrame to exclude values above 100 in the 'AGE' column\n",
    "filtered_df = df_customers[df_customers['AGE'] <= 100]\n",
    "\n",
    "# Plot the histogram\n",
    "sns.displot(data=filtered_df, x=\"AGE\", bins=20)\n",
    "plt.title('Age Distribution')\n",
    "plt.xlabel('Age')\n",
    "plt.ylabel('Frequency')\n",
    "plt.show()"
   ]
  },
  {
   "cell_type": "code",
   "execution_count": 7,
   "id": "a142702a-137a-4113-bd8c-b24146b20425",
   "metadata": {},
   "outputs": [
    {
     "name": "stdout",
     "output_type": "stream",
     "text": [
      "Lower age after in the cleaned column:  19\n",
      "Maximum age in the cleaned column:  54\n",
      "Mean age in the cleaned column: 34.4\n"
     ]
    }
   ],
   "source": [
    "#SOLUTION\n",
    "# Filtering the DataFrame removing unrealistic values \n",
    "print('Lower age after in the cleaned column: ', np.min(filtered_df.AGE))\n",
    "print('Maximum age in the cleaned column: ', np.max(filtered_df.AGE))\n",
    "print(\"Mean age in the cleaned column:\", round(np.mean(filtered_df.AGE), 2)) #solution"
   ]
  },
  {
   "cell_type": "markdown",
   "id": "a3997881-f502-4fb8-8410-518bb24e4e26",
   "metadata": {},
   "source": [
    "For the modeling part, I will impute the anomaly value with the mean of population "
   ]
  },
  {
   "cell_type": "code",
   "execution_count": 8,
   "id": "de262845-b81e-469b-91e5-ddb54d997705",
   "metadata": {},
   "outputs": [],
   "source": [
    "# Calculate mean age excluding values above 100\n",
    "mean_age = np.mean(df_customers.loc[df_customers['AGE'] <= 100, 'AGE'])\n",
    "\n",
    "# Replace values above 100 with mean age\n",
    "df_customers.loc[df_customers['AGE'] > 100, 'AGE'] = mean_age"
   ]
  },
  {
   "cell_type": "markdown",
   "id": "cf331aa5-6ffb-433b-97b3-dd6dff26e55c",
   "metadata": {},
   "source": [
    "# QUESTION 2: Explore the customers.parquet file. How’s the data quality?"
   ]
  },
  {
   "cell_type": "code",
   "execution_count": 9,
   "id": "bab7bb2c-4d4c-474b-b7e0-26b0e5c42f7e",
   "metadata": {},
   "outputs": [
    {
     "name": "stdout",
     "output_type": "stream",
     "text": [
      "(2500, 4)\n"
     ]
    },
    {
     "data": {
      "text/html": [
       "<div>\n",
       "<style scoped>\n",
       "    .dataframe tbody tr th:only-of-type {\n",
       "        vertical-align: middle;\n",
       "    }\n",
       "\n",
       "    .dataframe tbody tr th {\n",
       "        vertical-align: top;\n",
       "    }\n",
       "\n",
       "    .dataframe thead th {\n",
       "        text-align: right;\n",
       "    }\n",
       "</style>\n",
       "<table border=\"1\" class=\"dataframe\">\n",
       "  <thead>\n",
       "    <tr style=\"text-align: right;\">\n",
       "      <th></th>\n",
       "      <th>ID</th>\n",
       "      <th>GENDER</th>\n",
       "      <th>AGE</th>\n",
       "      <th>INCOME</th>\n",
       "    </tr>\n",
       "  </thead>\n",
       "  <tbody>\n",
       "    <tr>\n",
       "      <th>0</th>\n",
       "      <td>M5FQZHG1</td>\n",
       "      <td>F</td>\n",
       "      <td>37.0</td>\n",
       "      <td>10843.0</td>\n",
       "    </tr>\n",
       "    <tr>\n",
       "      <th>1</th>\n",
       "      <td>JPOALDTW</td>\n",
       "      <td>M</td>\n",
       "      <td>38.0</td>\n",
       "      <td>9419.0</td>\n",
       "    </tr>\n",
       "    <tr>\n",
       "      <th>2</th>\n",
       "      <td>QHJXRE6A</td>\n",
       "      <td>M</td>\n",
       "      <td>37.0</td>\n",
       "      <td>10850.0</td>\n",
       "    </tr>\n",
       "    <tr>\n",
       "      <th>3</th>\n",
       "      <td>LKS17XRW</td>\n",
       "      <td>M</td>\n",
       "      <td>35.0</td>\n",
       "      <td>10107.0</td>\n",
       "    </tr>\n",
       "    <tr>\n",
       "      <th>4</th>\n",
       "      <td>V5UPOIAW</td>\n",
       "      <td>F</td>\n",
       "      <td>34.0</td>\n",
       "      <td>10323.0</td>\n",
       "    </tr>\n",
       "  </tbody>\n",
       "</table>\n",
       "</div>"
      ],
      "text/plain": [
       "         ID GENDER   AGE   INCOME\n",
       "0  M5FQZHG1      F  37.0  10843.0\n",
       "1  JPOALDTW      M  38.0   9419.0\n",
       "2  QHJXRE6A      M  37.0  10850.0\n",
       "3  LKS17XRW      M  35.0  10107.0\n",
       "4  V5UPOIAW      F  34.0  10323.0"
      ]
     },
     "execution_count": 9,
     "metadata": {},
     "output_type": "execute_result"
    }
   ],
   "source": [
    "print(df_customers.shape)\n",
    "df_customers.head()"
   ]
  },
  {
   "cell_type": "code",
   "execution_count": 10,
   "id": "08f47122-928a-4dda-bec7-25f27e6076d1",
   "metadata": {},
   "outputs": [
    {
     "name": "stdout",
     "output_type": "stream",
     "text": [
      "Missing ID for df_customers:  0\n",
      "Distinct ID for df_customers:  2500\n",
      "ID duplicates for df_customers:  0\n"
     ]
    }
   ],
   "source": [
    "# Check ID column \n",
    "print('Missing ID for df_customers: ', df_customers.ID.isna().sum())\n",
    "print('Distinct ID for df_customers: ', df_customers.ID.nunique())\n",
    "print('ID duplicates for df_customers: ', df_customers.duplicated(subset=['ID']).sum())"
   ]
  },
  {
   "cell_type": "markdown",
   "id": "45bd343e-3af8-47a8-9605-b77e3ba594a9",
   "metadata": {},
   "source": [
    "From a first exploration, there are no problems with the column ID. It has no duplicates or missing ID associated with the customers."
   ]
  },
  {
   "cell_type": "code",
   "execution_count": 11,
   "id": "feb802ab-2131-420b-825b-9afbbdb8968c",
   "metadata": {},
   "outputs": [
    {
     "name": "stdout",
     "output_type": "stream",
     "text": [
      "Missing GENDER for df_customers:  0\n"
     ]
    },
    {
     "data": {
      "text/plain": [
       "M    1262\n",
       "F    1238\n",
       "Name: GENDER, dtype: int64"
      ]
     },
     "execution_count": 11,
     "metadata": {},
     "output_type": "execute_result"
    }
   ],
   "source": [
    "# Check Gender column\n",
    "print('Missing GENDER for df_customers: ', df_customers.GENDER.isna().sum())\n",
    "df_customers.GENDER.value_counts()"
   ]
  },
  {
   "cell_type": "code",
   "execution_count": 12,
   "id": "7ee476f0-0acd-4193-854f-5c9483808781",
   "metadata": {},
   "outputs": [
    {
     "name": "stdout",
     "output_type": "stream",
     "text": [
      "Every ID is associated with only one gender.\n"
     ]
    }
   ],
   "source": [
    "# Check if ID is associated with one single GENDER\n",
    "# Group by 'ID' and count unique values of GENDER\n",
    "gender_counts = df_customers.groupby('ID')['GENDER'].nunique()\n",
    "\n",
    "# Check if any count is greater than 1\n",
    "are_multiple_genders = (gender_counts > 1).any()\n",
    "\n",
    "if are_multiple_genders:\n",
    "    print(\"Some IDs are associated with more than one gender.\")\n",
    "else:\n",
    "    print(\"Every ID is associated with only one gender.\")"
   ]
  },
  {
   "cell_type": "markdown",
   "id": "76b376fc-b6d9-4105-ae46-3dec05207b1b",
   "metadata": {},
   "source": [
    "From a first exploration, also GENDER does not reveal any critical issues. There is a 50% split between M and F, there are no missing values, and there are no cases where ID is associated with multiple genders"
   ]
  },
  {
   "cell_type": "code",
   "execution_count": 13,
   "id": "2d9c400b-62fb-4793-8e29-5717cf5f18cc",
   "metadata": {},
   "outputs": [
    {
     "name": "stdout",
     "output_type": "stream",
     "text": [
      "Every ID is associated with only one age.\n"
     ]
    }
   ],
   "source": [
    "# Check AGE column (exploration started in question 1 above)\n",
    "# Check if ID is associated with one single AGE\n",
    "# Group by 'ID' and count unique values of AGE\n",
    "age_counts = df_customers.groupby('ID')['AGE'].nunique()\n",
    "\n",
    "# Check if any count is greater than 1\n",
    "are_multiple_ages = (age_counts > 1).any()\n",
    "\n",
    "if are_multiple_genders:\n",
    "    print(\"Some IDs are associated with more than one age.\")\n",
    "else:\n",
    "    print(\"Every ID is associated with only one age.\")"
   ]
  },
  {
   "cell_type": "code",
   "execution_count": 14,
   "id": "cb389abf-80c1-477b-956a-a713d99b258b",
   "metadata": {},
   "outputs": [
    {
     "name": "stdout",
     "output_type": "stream",
     "text": [
      "Missing INCOME for df_customers:  375\n",
      "Percentage Missing values for INCOME:  15.0\n",
      "Lower INCOME:  6163.0\n",
      "Maximum INCOME:  13377.0\n"
     ]
    },
    {
     "data": {
      "image/png": "[encoded data removed]",
      "text/plain": [
       "<Figure size 360x360 with 1 Axes>"
      ]
     },
     "metadata": {
      "needs_background": "light"
     },
     "output_type": "display_data"
    }
   ],
   "source": [
    "# Check INCOME column \n",
    "print('Missing INCOME for df_customers: ', df_customers.INCOME.isna().sum())\n",
    "print('Percentage Missing values for INCOME: ', (df_customers.INCOME.isna().sum()/len(df_customers['INCOME'])*100))\n",
    "print('Lower INCOME: ', np.min(df_customers.INCOME))\n",
    "print('Maximum INCOME: ', np.max(df_customers.INCOME))\n",
    "\n",
    "# Plot the histogram\n",
    "sns.displot(data=df_customers, x=\"INCOME\", bins=20)\n",
    "plt.title('Income Distribution')\n",
    "plt.xlabel('Income')\n",
    "plt.ylabel('Frequency')\n",
    "plt.show()"
   ]
  },
  {
   "cell_type": "markdown",
   "id": "3c1ae448-bd6a-4a33-8c10-48d7d4961329",
   "metadata": {},
   "source": [
    "Overall, from just a tecnical perspective, also the Income does not have significant issues. It represents a normal distribution with a max income of 13377 and a lower of 6163. The only issue that can be fixed is the relatively low percentage of missing values. However, it is a problem that can be workarounded by using imputation of missing values with mean as shown in the step below. "
   ]
  },
  {
   "cell_type": "code",
   "execution_count": 15,
   "id": "22d5d798-8e88-4b4e-8fc7-8ab0e4e2b0d6",
   "metadata": {},
   "outputs": [
    {
     "name": "stdout",
     "output_type": "stream",
     "text": [
      "New shape of df_customers:  (2500, 4)\n"
     ]
    },
    {
     "data": {
      "text/html": [
       "<div>\n",
       "<style scoped>\n",
       "    .dataframe tbody tr th:only-of-type {\n",
       "        vertical-align: middle;\n",
       "    }\n",
       "\n",
       "    .dataframe tbody tr th {\n",
       "        vertical-align: top;\n",
       "    }\n",
       "\n",
       "    .dataframe thead th {\n",
       "        text-align: right;\n",
       "    }\n",
       "</style>\n",
       "<table border=\"1\" class=\"dataframe\">\n",
       "  <thead>\n",
       "    <tr style=\"text-align: right;\">\n",
       "      <th></th>\n",
       "      <th>ID</th>\n",
       "      <th>GENDER</th>\n",
       "      <th>AGE</th>\n",
       "      <th>INCOME</th>\n",
       "    </tr>\n",
       "  </thead>\n",
       "  <tbody>\n",
       "    <tr>\n",
       "      <th>0</th>\n",
       "      <td>M5FQZHG1</td>\n",
       "      <td>1</td>\n",
       "      <td>37.0</td>\n",
       "      <td>10843.0</td>\n",
       "    </tr>\n",
       "    <tr>\n",
       "      <th>1</th>\n",
       "      <td>JPOALDTW</td>\n",
       "      <td>0</td>\n",
       "      <td>38.0</td>\n",
       "      <td>9419.0</td>\n",
       "    </tr>\n",
       "    <tr>\n",
       "      <th>2</th>\n",
       "      <td>QHJXRE6A</td>\n",
       "      <td>0</td>\n",
       "      <td>37.0</td>\n",
       "      <td>10850.0</td>\n",
       "    </tr>\n",
       "    <tr>\n",
       "      <th>3</th>\n",
       "      <td>LKS17XRW</td>\n",
       "      <td>0</td>\n",
       "      <td>35.0</td>\n",
       "      <td>10107.0</td>\n",
       "    </tr>\n",
       "    <tr>\n",
       "      <th>4</th>\n",
       "      <td>V5UPOIAW</td>\n",
       "      <td>1</td>\n",
       "      <td>34.0</td>\n",
       "      <td>10323.0</td>\n",
       "    </tr>\n",
       "  </tbody>\n",
       "</table>\n",
       "</div>"
      ],
      "text/plain": [
       "         ID  GENDER   AGE   INCOME\n",
       "0  M5FQZHG1       1  37.0  10843.0\n",
       "1  JPOALDTW       0  38.0   9419.0\n",
       "2  QHJXRE6A       0  37.0  10850.0\n",
       "3  LKS17XRW       0  35.0  10107.0\n",
       "4  V5UPOIAW       1  34.0  10323.0"
      ]
     },
     "execution_count": 15,
     "metadata": {},
     "output_type": "execute_result"
    }
   ],
   "source": [
    "# Impute missing values of INCOME with the mean\n",
    "df_customers['INCOME'] = df_customers['INCOME'].fillna(df_customers['INCOME'].mean())\n",
    "\n",
    "# Map the values in the 'GENDER' column to binary values\n",
    "gender_map = {'M': 0, 'F': 1}\n",
    "df_customers['GENDER'] = df_customers['GENDER'].map(gender_map)\n",
    "\n",
    "print('New shape of df_customers: ', df_customers.shape)\n",
    "df_customers.head()"
   ]
  },
  {
   "cell_type": "markdown",
   "id": "708264f9-7f9c-45b2-b502-470182bfae6f",
   "metadata": {
    "tags": []
   },
   "source": [
    "# QUESTION 3: Examine the loans.parquet file. Can you spot some possible discrimination?"
   ]
  },
  {
   "cell_type": "code",
   "execution_count": 16,
   "id": "4a6b8b86-d49b-4614-8512-c1feb5aa5f24",
   "metadata": {},
   "outputs": [
    {
     "name": "stdout",
     "output_type": "stream",
     "text": [
      "Shape of df_loans:  (3203, 4)\n",
      "Missing ID for df_loans:  0\n",
      "Distinct ID for df_loans:  1348\n",
      "ID duplicates for df_loans:  1855\n",
      " \n"
     ]
    },
    {
     "data": {
      "text/html": [
       "<div>\n",
       "<style scoped>\n",
       "    .dataframe tbody tr th:only-of-type {\n",
       "        vertical-align: middle;\n",
       "    }\n",
       "\n",
       "    .dataframe tbody tr th {\n",
       "        vertical-align: top;\n",
       "    }\n",
       "\n",
       "    .dataframe thead th {\n",
       "        text-align: right;\n",
       "    }\n",
       "</style>\n",
       "<table border=\"1\" class=\"dataframe\">\n",
       "  <thead>\n",
       "    <tr style=\"text-align: right;\">\n",
       "      <th></th>\n",
       "      <th>ID</th>\n",
       "      <th>DATE</th>\n",
       "      <th>AMOUNT</th>\n",
       "      <th>OUTCOME</th>\n",
       "    </tr>\n",
       "  </thead>\n",
       "  <tbody>\n",
       "    <tr>\n",
       "      <th>1351</th>\n",
       "      <td>LG0PC60M</td>\n",
       "      <td>2022-04-27</td>\n",
       "      <td>24415</td>\n",
       "      <td>Declined</td>\n",
       "    </tr>\n",
       "    <tr>\n",
       "      <th>5</th>\n",
       "      <td>YNRVXFHU</td>\n",
       "      <td>2022-01-24</td>\n",
       "      <td>24883</td>\n",
       "      <td>Declined</td>\n",
       "    </tr>\n",
       "    <tr>\n",
       "      <th>1437</th>\n",
       "      <td>IQIT/RIF</td>\n",
       "      <td>2022-04-16</td>\n",
       "      <td>21650</td>\n",
       "      <td>Declined</td>\n",
       "    </tr>\n",
       "    <tr>\n",
       "      <th>1064</th>\n",
       "      <td>ZQYTNBWX</td>\n",
       "      <td>2022-03-09</td>\n",
       "      <td>19822</td>\n",
       "      <td>Declined</td>\n",
       "    </tr>\n",
       "    <tr>\n",
       "      <th>1956</th>\n",
       "      <td>JZHEH32O</td>\n",
       "      <td>2022-05-15</td>\n",
       "      <td>17996</td>\n",
       "      <td>Declined</td>\n",
       "    </tr>\n",
       "  </tbody>\n",
       "</table>\n",
       "</div>"
      ],
      "text/plain": [
       "            ID        DATE  AMOUNT   OUTCOME\n",
       "1351  LG0PC60M  2022-04-27   24415  Declined\n",
       "5     YNRVXFHU  2022-01-24   24883  Declined\n",
       "1437  IQIT/RIF  2022-04-16   21650  Declined\n",
       "1064  ZQYTNBWX  2022-03-09   19822  Declined\n",
       "1956  JZHEH32O  2022-05-15   17996  Declined"
      ]
     },
     "execution_count": 16,
     "metadata": {},
     "output_type": "execute_result"
    }
   ],
   "source": [
    "# Check quality ID customers \n",
    "print('Shape of df_loans: ', df_loans.shape)\n",
    "print('Missing ID for df_loans: ', df_loans['ID'].isna().sum())\n",
    "print('Distinct ID for df_loans: ', df_loans.ID.nunique())\n",
    "print('ID duplicates for df_loans: ', df_loans.duplicated(subset=['ID']).sum())\n",
    "print(' ')\n",
    "\n",
    "df_loans.head()"
   ]
  },
  {
   "cell_type": "markdown",
   "id": "4eaf22d2-f32a-4ade-bd07-73f7e898be08",
   "metadata": {},
   "source": [
    "The amount of duplicates suggests that some customers asked for a loan multiple time"
   ]
  },
  {
   "cell_type": "code",
   "execution_count": 17,
   "id": "9a2718d5-9acb-41b9-8dfb-decd61680216",
   "metadata": {},
   "outputs": [
    {
     "name": "stdout",
     "output_type": "stream",
     "text": [
      "Missing DATE for df_transactions:  0\n",
      "Lower DATE:  2022-01-02 00:00:00\n",
      "Maximum DATE:  2022-08-30 00:00:00\n"
     ]
    },
    {
     "data": {
      "text/plain": [
       "<Figure size 648x648 with 0 Axes>"
      ]
     },
     "metadata": {},
     "output_type": "display_data"
    },
    {
     "data": {
      "image/png": "[encoded data removed]",
      "text/plain": [
       "<Figure size 360x360 with 1 Axes>"
      ]
     },
     "metadata": {
      "needs_background": "light"
     },
     "output_type": "display_data"
    }
   ],
   "source": [
    "# Check Date \n",
    "df_loans['DATE'] = pd.to_datetime(df_loans['DATE'])\n",
    "print('Missing DATE for df_transactions: ', df_loans['DATE'].isna().sum())\n",
    "print('Lower DATE: ', np.min(df_loans.DATE))\n",
    "print('Maximum DATE: ', np.max(df_loans.DATE))\n",
    "\n",
    "# Plot the histogram\n",
    "plt.figure(figsize=(9, 9))\n",
    "sns.displot(data=df_loans, x=\"DATE\", bins=30)\n",
    "plt.title('DATE DISTRIBUTION')\n",
    "plt.xlabel('DATE')\n",
    "plt.ylabel('Frequency')\n",
    "plt.xticks(rotation=45, ha='right')\n",
    "plt.show()"
   ]
  },
  {
   "cell_type": "code",
   "execution_count": 18,
   "id": "be72f3b7-e0cb-4b0e-a15f-c44f93bd44cc",
   "metadata": {},
   "outputs": [
    {
     "name": "stdout",
     "output_type": "stream",
     "text": [
      "Number of people who asked multiple times: 861\n"
     ]
    }
   ],
   "source": [
    "# Count the occurrences of each unique ID \n",
    "id_counts = df_loans['ID'].value_counts()\n",
    "\n",
    "# Count the number of IDs that asked for a loan more than once\n",
    "multiple_requests_count = sum(id_counts > 1)\n",
    "print(\"Number of people who asked multiple times:\", multiple_requests_count)"
   ]
  },
  {
   "cell_type": "markdown",
   "id": "855c2765-0b30-4f39-81e3-d8111411d0b3",
   "metadata": {
    "tags": []
   },
   "source": [
    "There are 861 ID out of 1348 (63.9%) ID who asked for a loan multiple times. "
   ]
  },
  {
   "cell_type": "code",
   "execution_count": 19,
   "id": "052568bd-21b8-4e1c-8f36-d3c63f4435e8",
   "metadata": {},
   "outputs": [
    {
     "name": "stdout",
     "output_type": "stream",
     "text": [
      "IDs with different outcomes:  252\n"
     ]
    }
   ],
   "source": [
    "# Check how many ID received a different OUTCOME\n",
    "\n",
    "# Grouping the DataFrame by 'ID' and counting the number of unique values in the 'OUTCOME' column within each group\n",
    "id_outcome_counts = df_loans.groupby('ID')['OUTCOME'].nunique()\n",
    "\n",
    "# Selecting rows where the number of unique values in 'OUTCOME' is greater than 1\n",
    "id_with_multiple_outcomes = id_outcome_counts[id_outcome_counts > 1]\n",
    "\n",
    "# Printing the IDs with different outcomes\n",
    "print('IDs with different outcomes: ', len(id_with_multiple_outcomes))"
   ]
  },
  {
   "cell_type": "markdown",
   "id": "a9a44832-fc00-4064-928a-0fe5bb7259f8",
   "metadata": {},
   "source": [
    "There are 252 ID out of 1348 (18.7%) who received a different loan based on the time of the request. In order to come up with a binary classification for the next question, I will flag all the ID with 1 (i.e., TakeUp) or 0 (i.e., Declined) based on the most recent date."
   ]
  },
  {
   "cell_type": "code",
   "execution_count": 20,
   "id": "e613e558-e59b-46f8-bfcd-cc3efa97c3e3",
   "metadata": {},
   "outputs": [
    {
     "data": {
      "text/html": [
       "<div>\n",
       "<style scoped>\n",
       "    .dataframe tbody tr th:only-of-type {\n",
       "        vertical-align: middle;\n",
       "    }\n",
       "\n",
       "    .dataframe tbody tr th {\n",
       "        vertical-align: top;\n",
       "    }\n",
       "\n",
       "    .dataframe thead th {\n",
       "        text-align: right;\n",
       "    }\n",
       "</style>\n",
       "<table border=\"1\" class=\"dataframe\">\n",
       "  <thead>\n",
       "    <tr style=\"text-align: right;\">\n",
       "      <th></th>\n",
       "      <th>ID</th>\n",
       "      <th>DATE</th>\n",
       "      <th>AMOUNT</th>\n",
       "      <th>OUTCOME</th>\n",
       "      <th>BINARY_OUTCOME</th>\n",
       "    </tr>\n",
       "  </thead>\n",
       "  <tbody>\n",
       "    <tr>\n",
       "      <th>1351</th>\n",
       "      <td>LG0PC60M</td>\n",
       "      <td>2022-04-27</td>\n",
       "      <td>24415</td>\n",
       "      <td>Declined</td>\n",
       "      <td>0</td>\n",
       "    </tr>\n",
       "    <tr>\n",
       "      <th>5</th>\n",
       "      <td>YNRVXFHU</td>\n",
       "      <td>2022-01-24</td>\n",
       "      <td>24883</td>\n",
       "      <td>Declined</td>\n",
       "      <td>0</td>\n",
       "    </tr>\n",
       "    <tr>\n",
       "      <th>1437</th>\n",
       "      <td>IQIT/RIF</td>\n",
       "      <td>2022-04-16</td>\n",
       "      <td>21650</td>\n",
       "      <td>Declined</td>\n",
       "      <td>0</td>\n",
       "    </tr>\n",
       "    <tr>\n",
       "      <th>1064</th>\n",
       "      <td>ZQYTNBWX</td>\n",
       "      <td>2022-03-09</td>\n",
       "      <td>19822</td>\n",
       "      <td>Declined</td>\n",
       "      <td>0</td>\n",
       "    </tr>\n",
       "    <tr>\n",
       "      <th>1956</th>\n",
       "      <td>JZHEH32O</td>\n",
       "      <td>2022-05-15</td>\n",
       "      <td>17996</td>\n",
       "      <td>Declined</td>\n",
       "      <td>0</td>\n",
       "    </tr>\n",
       "  </tbody>\n",
       "</table>\n",
       "</div>"
      ],
      "text/plain": [
       "            ID       DATE  AMOUNT   OUTCOME  BINARY_OUTCOME\n",
       "1351  LG0PC60M 2022-04-27   24415  Declined               0\n",
       "5     YNRVXFHU 2022-01-24   24883  Declined               0\n",
       "1437  IQIT/RIF 2022-04-16   21650  Declined               0\n",
       "1064  ZQYTNBWX 2022-03-09   19822  Declined               0\n",
       "1956  JZHEH32O 2022-05-15   17996  Declined               0"
      ]
     },
     "execution_count": 20,
     "metadata": {},
     "output_type": "execute_result"
    }
   ],
   "source": [
    "# First step is to replace 'declined' with 0 and 'takeup' with 1 in the 'OUTCOME' column\n",
    "df_loans['BINARY_OUTCOME'] = df_loans['OUTCOME'].replace({'Declined': 0, 'TakeUp': 1})\n",
    "df_loans.head()"
   ]
  },
  {
   "cell_type": "markdown",
   "id": "45c0555d-3588-4cf2-99c7-be22f03d9057",
   "metadata": {},
   "source": [
    "In the perspective of the modeling part, I will also investigate the column AMOUNT"
   ]
  },
  {
   "cell_type": "code",
   "execution_count": 21,
   "id": "cf687a2b-11ce-4a09-8c20-f6f23089ce18",
   "metadata": {},
   "outputs": [
    {
     "name": "stdout",
     "output_type": "stream",
     "text": [
      "Missing AMOUNT for df_loans:  0\n",
      "Percentage Missing values for AMOUNT:  0.0\n",
      "Lower AMOUNT:  7475\n",
      "Maximum AMOUNT:  33205\n"
     ]
    },
    {
     "data": {
      "image/png": "[encoded data removed]",
      "text/plain": [
       "<Figure size 360x360 with 1 Axes>"
      ]
     },
     "metadata": {
      "needs_background": "light"
     },
     "output_type": "display_data"
    }
   ],
   "source": [
    "# Check AMOUNT column \n",
    "print('Missing AMOUNT for df_loans: ', df_loans.AMOUNT.isna().sum())\n",
    "print('Percentage Missing values for AMOUNT: ', (df_loans.AMOUNT.isna().sum()/len(df_loans['AMOUNT'])*100))\n",
    "print('Lower AMOUNT: ', np.min(df_loans.AMOUNT))\n",
    "print('Maximum AMOUNT: ', np.max(df_loans.AMOUNT))\n",
    "\n",
    "# Plot the histogram\n",
    "sns.displot(data=df_loans, x=\"AMOUNT\", bins=20)\n",
    "plt.title('Amount Distribution')\n",
    "plt.xlabel('Amount')\n",
    "plt.ylabel('Frequency')\n",
    "plt.show()"
   ]
  },
  {
   "cell_type": "markdown",
   "id": "d80a28ac-5520-4ce1-af82-92d98e74bc32",
   "metadata": {},
   "source": [
    "The column reflects (intuitively) the amount of loan requested. This info can be predictive of the target. In order to be consistent with the creation of the target, I will take the amount of the last loan requested."
   ]
  },
  {
   "cell_type": "code",
   "execution_count": 22,
   "id": "10573f64-bf92-48d1-8d25-dd03fc2da18c",
   "metadata": {},
   "outputs": [
    {
     "name": "stdout",
     "output_type": "stream",
     "text": [
      "(1348, 4)\n"
     ]
    },
    {
     "data": {
      "text/html": [
       "<div>\n",
       "<style scoped>\n",
       "    .dataframe tbody tr th:only-of-type {\n",
       "        vertical-align: middle;\n",
       "    }\n",
       "\n",
       "    .dataframe tbody tr th {\n",
       "        vertical-align: top;\n",
       "    }\n",
       "\n",
       "    .dataframe thead th {\n",
       "        text-align: right;\n",
       "    }\n",
       "</style>\n",
       "<table border=\"1\" class=\"dataframe\">\n",
       "  <thead>\n",
       "    <tr style=\"text-align: right;\">\n",
       "      <th></th>\n",
       "      <th>ID</th>\n",
       "      <th>target</th>\n",
       "      <th>max_DATE</th>\n",
       "      <th>loan_amt</th>\n",
       "    </tr>\n",
       "  </thead>\n",
       "  <tbody>\n",
       "    <tr>\n",
       "      <th>0</th>\n",
       "      <td>++SMIKU/</td>\n",
       "      <td>0</td>\n",
       "      <td>2022-05-23</td>\n",
       "      <td>16021</td>\n",
       "    </tr>\n",
       "    <tr>\n",
       "      <th>1</th>\n",
       "      <td>++YL0APY</td>\n",
       "      <td>1</td>\n",
       "      <td>2022-04-17</td>\n",
       "      <td>14603</td>\n",
       "    </tr>\n",
       "    <tr>\n",
       "      <th>2</th>\n",
       "      <td>+E4MIDN7</td>\n",
       "      <td>0</td>\n",
       "      <td>2022-08-21</td>\n",
       "      <td>18517</td>\n",
       "    </tr>\n",
       "    <tr>\n",
       "      <th>3</th>\n",
       "      <td>+EF470O/</td>\n",
       "      <td>0</td>\n",
       "      <td>2022-01-15</td>\n",
       "      <td>17734</td>\n",
       "    </tr>\n",
       "    <tr>\n",
       "      <th>4</th>\n",
       "      <td>+LDXZSXW</td>\n",
       "      <td>0</td>\n",
       "      <td>2022-07-02</td>\n",
       "      <td>25138</td>\n",
       "    </tr>\n",
       "  </tbody>\n",
       "</table>\n",
       "</div>"
      ],
      "text/plain": [
       "         ID  target   max_DATE  loan_amt\n",
       "0  ++SMIKU/       0 2022-05-23     16021\n",
       "1  ++YL0APY       1 2022-04-17     14603\n",
       "2  +E4MIDN7       0 2022-08-21     18517\n",
       "3  +EF470O/       0 2022-01-15     17734\n",
       "4  +LDXZSXW       0 2022-07-02     25138"
      ]
     },
     "execution_count": 22,
     "metadata": {},
     "output_type": "execute_result"
    }
   ],
   "source": [
    "# Convert DATE column to datetime\n",
    "df_loans['DATE'] = pd.to_datetime(df_loans['DATE'])\n",
    "\n",
    "# Group by 'ID' and select the OUTCOME and AMOUNT according to the maximum date\n",
    "df_loans_gb = df_loans.groupby('ID').agg(\n",
    "    target=('BINARY_OUTCOME', 'last'),\n",
    "    max_DATE=('DATE', 'max'),\n",
    "    loan_amt=('AMOUNT', 'last')\n",
    ").reset_index()\n",
    "\n",
    "print(df_loans_gb.shape)\n",
    "df_loans_gb.head()"
   ]
  },
  {
   "cell_type": "code",
   "execution_count": 23,
   "id": "652846db-8721-4981-a3a9-3f1cfeec2dd6",
   "metadata": {},
   "outputs": [
    {
     "name": "stdout",
     "output_type": "stream",
     "text": [
      "Missing BINARY_OUTCOME for df_loans:  0\n",
      " \n",
      "Partition target: \n"
     ]
    },
    {
     "data": {
      "text/plain": [
       "0    1052\n",
       "1     296\n",
       "Name: target, dtype: int64"
      ]
     },
     "execution_count": 23,
     "metadata": {},
     "output_type": "execute_result"
    }
   ],
   "source": [
    "#SOLUTION\n",
    "# Check Outcome column \n",
    "print('Missing BINARY_OUTCOME for df_loans: ', df_loans_gb.target.isna().sum())\n",
    "print(' ')\n",
    "print('Partition target: ')\n",
    "df_loans_gb.target.value_counts()"
   ]
  },
  {
   "cell_type": "markdown",
   "id": "d2dd16f0-b1cb-45fc-9fd6-0ae6eca5d016",
   "metadata": {},
   "source": [
    "The first possible discrimination that is possible to extract from data comes from the OUTCOME column (converted into a binary column). It reflects a classic binary classification between customers that did not receive (78%) and received (22%) a loan based on their last request. As further investigation, it would be interesting to explore more the correlation with the AMOUNT and/or DATE with the target, in order to come up with a more sophisticated solution for the binary classification.   "
   ]
  },
  {
   "cell_type": "markdown",
   "id": "ecad60ea-3d9d-4c5a-b7ea-3f8463080b8f",
   "metadata": {},
   "source": [
    "# QUESTION 4: The transactions file contains customer transactions. You’ll soon be asked to train a model - explain your approach to using this data, and calculate the necessary features."
   ]
  },
  {
   "cell_type": "code",
   "execution_count": 24,
   "id": "92d3f705-92cc-44f8-8422-107eb3c0a846",
   "metadata": {},
   "outputs": [
    {
     "data": {
      "text/html": [
       "<div>\n",
       "<style scoped>\n",
       "    .dataframe tbody tr th:only-of-type {\n",
       "        vertical-align: middle;\n",
       "    }\n",
       "\n",
       "    .dataframe tbody tr th {\n",
       "        vertical-align: top;\n",
       "    }\n",
       "\n",
       "    .dataframe thead th {\n",
       "        text-align: right;\n",
       "    }\n",
       "</style>\n",
       "<table border=\"1\" class=\"dataframe\">\n",
       "  <thead>\n",
       "    <tr style=\"text-align: right;\">\n",
       "      <th></th>\n",
       "      <th>ID</th>\n",
       "      <th>DATE</th>\n",
       "      <th>AMOUNT</th>\n",
       "      <th>BALANCE</th>\n",
       "    </tr>\n",
       "  </thead>\n",
       "  <tbody>\n",
       "    <tr>\n",
       "      <th>186724</th>\n",
       "      <td>HW6AIBVF</td>\n",
       "      <td>2022-07-23</td>\n",
       "      <td>-3033</td>\n",
       "      <td>17811.0</td>\n",
       "    </tr>\n",
       "    <tr>\n",
       "      <th>209157</th>\n",
       "      <td>JYMG2Q4S</td>\n",
       "      <td>2022-08-17</td>\n",
       "      <td>-777</td>\n",
       "      <td>8558.0</td>\n",
       "    </tr>\n",
       "    <tr>\n",
       "      <th>189985</th>\n",
       "      <td>BUETXTEY</td>\n",
       "      <td>2022-07-27</td>\n",
       "      <td>-501</td>\n",
       "      <td>26641.0</td>\n",
       "    </tr>\n",
       "    <tr>\n",
       "      <th>182248</th>\n",
       "      <td>O+AEF2OT</td>\n",
       "      <td>2022-07-18</td>\n",
       "      <td>-64</td>\n",
       "      <td>NaN</td>\n",
       "    </tr>\n",
       "    <tr>\n",
       "      <th>130378</th>\n",
       "      <td>TFHGRG46</td>\n",
       "      <td>2022-05-20</td>\n",
       "      <td>-1335</td>\n",
       "      <td>NaN</td>\n",
       "    </tr>\n",
       "  </tbody>\n",
       "</table>\n",
       "</div>"
      ],
      "text/plain": [
       "              ID        DATE  AMOUNT  BALANCE\n",
       "186724  HW6AIBVF  2022-07-23   -3033  17811.0\n",
       "209157  JYMG2Q4S  2022-08-17    -777   8558.0\n",
       "189985  BUETXTEY  2022-07-27    -501  26641.0\n",
       "182248  O+AEF2OT  2022-07-18     -64      NaN\n",
       "130378  TFHGRG46  2022-05-20   -1335      NaN"
      ]
     },
     "execution_count": 24,
     "metadata": {},
     "output_type": "execute_result"
    }
   ],
   "source": [
    "df_transactions.head()"
   ]
  },
  {
   "cell_type": "code",
   "execution_count": 25,
   "id": "d34244c5-608d-4203-84f5-6a9670b5e668",
   "metadata": {},
   "outputs": [
    {
     "name": "stdout",
     "output_type": "stream",
     "text": [
      "Shape of df_transactions:  (91931, 4)\n",
      "Missing ID for df_transactions:  0\n",
      "Distinct ID for df_transactions:  2500\n",
      "ID duplicates for df_transactions:  89431\n"
     ]
    }
   ],
   "source": [
    "# Check quality ID customers \n",
    "print('Shape of df_transactions: ', df_transactions.shape)\n",
    "print('Missing ID for df_transactions: ', df_transactions['ID'].isna().sum())\n",
    "print('Distinct ID for df_transactions: ', df_transactions.ID.nunique())\n",
    "print('ID duplicates for df_transactions: ', df_transactions.duplicated(subset=['ID']).sum())"
   ]
  },
  {
   "cell_type": "code",
   "execution_count": 26,
   "id": "bdc5e5f2-9ccd-45a6-a8ee-5181143dce55",
   "metadata": {},
   "outputs": [
    {
     "name": "stdout",
     "output_type": "stream",
     "text": [
      "Missing DATE for df_transactions:  0\n",
      "Lower DATE:  2022-05-01 00:00:00\n",
      "Maximum DATE:  2022-08-30 00:00:00\n"
     ]
    },
    {
     "data": {
      "text/plain": [
       "<Figure size 648x648 with 0 Axes>"
      ]
     },
     "metadata": {},
     "output_type": "display_data"
    },
    {
     "data": {
      "image/png": "[encoded data removed]",
      "text/plain": [
       "<Figure size 360x360 with 1 Axes>"
      ]
     },
     "metadata": {
      "needs_background": "light"
     },
     "output_type": "display_data"
    }
   ],
   "source": [
    "# Check Date \n",
    "df_transactions['DATE'] = pd.to_datetime(df_transactions['DATE'])\n",
    "print('Missing DATE for df_transactions: ', df_transactions['DATE'].isna().sum())\n",
    "print('Lower DATE: ', np.min(df_transactions.DATE))\n",
    "print('Maximum DATE: ', np.max(df_transactions.DATE))\n",
    "\n",
    "# Plot the histogram\n",
    "plt.figure(figsize=(9, 9))\n",
    "sns.displot(data=df_transactions, x=\"DATE\", bins=30)\n",
    "plt.title('DATE DISTRIBUTION')\n",
    "plt.xlabel('DATE')\n",
    "plt.ylabel('Frequency')\n",
    "plt.xticks(rotation=45, ha='right')\n",
    "plt.show()"
   ]
  },
  {
   "cell_type": "markdown",
   "id": "1194650c-82a9-4cce-a4e0-09695bee7828",
   "metadata": {},
   "source": [
    "The time of range is quite small, including only 3 months of transactions. From this column, it is possible to extract the number of transactions made by each ID. First, in order to not bias the next metrics, all the transactions happened after the date of the target should be excluded."
   ]
  },
  {
   "cell_type": "code",
   "execution_count": 27,
   "id": "11353117-90c9-4e3c-8024-83c63d71bd36",
   "metadata": {},
   "outputs": [
    {
     "name": "stdout",
     "output_type": "stream",
     "text": [
      "Missing values for each column: \n",
      "ID             0\n",
      "DATE           0\n",
      "AMOUNT         0\n",
      "BALANCE     3725\n",
      "max_DATE       0\n",
      "target         0\n",
      "dtype: int64\n",
      "(25126, 6)\n"
     ]
    },
    {
     "data": {
      "text/html": [
       "<div>\n",
       "<style scoped>\n",
       "    .dataframe tbody tr th:only-of-type {\n",
       "        vertical-align: middle;\n",
       "    }\n",
       "\n",
       "    .dataframe tbody tr th {\n",
       "        vertical-align: top;\n",
       "    }\n",
       "\n",
       "    .dataframe thead th {\n",
       "        text-align: right;\n",
       "    }\n",
       "</style>\n",
       "<table border=\"1\" class=\"dataframe\">\n",
       "  <thead>\n",
       "    <tr style=\"text-align: right;\">\n",
       "      <th></th>\n",
       "      <th>ID</th>\n",
       "      <th>DATE</th>\n",
       "      <th>AMOUNT</th>\n",
       "      <th>BALANCE</th>\n",
       "      <th>max_DATE</th>\n",
       "      <th>target</th>\n",
       "    </tr>\n",
       "  </thead>\n",
       "  <tbody>\n",
       "    <tr>\n",
       "      <th>3</th>\n",
       "      <td>O+AEF2OT</td>\n",
       "      <td>2022-07-18</td>\n",
       "      <td>-64</td>\n",
       "      <td>NaN</td>\n",
       "      <td>2022-08-22</td>\n",
       "      <td>0.0</td>\n",
       "    </tr>\n",
       "    <tr>\n",
       "      <th>5</th>\n",
       "      <td>CC3PAHCB</td>\n",
       "      <td>2022-05-09</td>\n",
       "      <td>-643</td>\n",
       "      <td>1599.0</td>\n",
       "      <td>2022-07-09</td>\n",
       "      <td>0.0</td>\n",
       "    </tr>\n",
       "    <tr>\n",
       "      <th>10</th>\n",
       "      <td>A1N76+0Y</td>\n",
       "      <td>2022-08-05</td>\n",
       "      <td>-1633</td>\n",
       "      <td>3828.0</td>\n",
       "      <td>2022-08-08</td>\n",
       "      <td>0.0</td>\n",
       "    </tr>\n",
       "    <tr>\n",
       "      <th>12</th>\n",
       "      <td>0NFZ2II6</td>\n",
       "      <td>2022-06-01</td>\n",
       "      <td>-1306</td>\n",
       "      <td>5649.0</td>\n",
       "      <td>2022-06-16</td>\n",
       "      <td>0.0</td>\n",
       "    </tr>\n",
       "    <tr>\n",
       "      <th>19</th>\n",
       "      <td>NRWVYMMV</td>\n",
       "      <td>2022-07-29</td>\n",
       "      <td>-1196</td>\n",
       "      <td>2481.0</td>\n",
       "      <td>2022-08-24</td>\n",
       "      <td>0.0</td>\n",
       "    </tr>\n",
       "  </tbody>\n",
       "</table>\n",
       "</div>"
      ],
      "text/plain": [
       "          ID       DATE  AMOUNT  BALANCE   max_DATE  target\n",
       "3   O+AEF2OT 2022-07-18     -64      NaN 2022-08-22     0.0\n",
       "5   CC3PAHCB 2022-05-09    -643   1599.0 2022-07-09     0.0\n",
       "10  A1N76+0Y 2022-08-05   -1633   3828.0 2022-08-08     0.0\n",
       "12  0NFZ2II6 2022-06-01   -1306   5649.0 2022-06-16     0.0\n",
       "19  NRWVYMMV 2022-07-29   -1196   2481.0 2022-08-24     0.0"
      ]
     },
     "execution_count": 27,
     "metadata": {},
     "output_type": "execute_result"
    }
   ],
   "source": [
    "# Join Date of the target in order to filter all the transactions that happen after that time\n",
    "df_transactions = pd.merge(df_transactions, df_loans_gb[['ID', 'max_DATE', 'target']], on='ID', how='left')\n",
    "df_transactions = df_transactions.dropna(subset=['target']) # we drop rows without target\n",
    "\n",
    "# Filter out rows where DATE of the transaction is greater than MAX_DATE when the target was established\n",
    "df_transactions = df_transactions[~(df_transactions['DATE'] > df_transactions['max_DATE'])]\n",
    "\n",
    "print('Missing values for each column: ')\n",
    "print(df_transactions.isna().sum())\n",
    "print(df_transactions.shape)\n",
    "df_transactions.head()"
   ]
  },
  {
   "cell_type": "code",
   "execution_count": 28,
   "id": "7a5eb306-b00f-4ed6-bafc-f6d553dcf7d6",
   "metadata": {},
   "outputs": [
    {
     "name": "stdout",
     "output_type": "stream",
     "text": [
      "(25126, 4)\n",
      "Shape of df_transactions:  (25126, 4)\n",
      "Missing ID for df_transactions:  0\n",
      "Distinct ID for df_transactions:  1038\n",
      "ID duplicates for df_transactions:  24088\n"
     ]
    }
   ],
   "source": [
    "# Drop max_DATE and target \n",
    "df_transactions = df_transactions.drop(['max_DATE', 'target'], axis=1) #not needed anymore\n",
    "print(df_transactions.shape)\n",
    "\n",
    "# Check quality ID customers after removing future transactions\n",
    "print('Shape of df_transactions: ', df_transactions.shape)\n",
    "print('Missing ID for df_transactions: ', df_transactions['ID'].isna().sum())\n",
    "print('Distinct ID for df_transactions: ', df_transactions.ID.nunique())\n",
    "print('ID duplicates for df_transactions: ', df_transactions.duplicated(subset=['ID']).sum())"
   ]
  },
  {
   "cell_type": "code",
   "execution_count": 29,
   "id": "64df80c8-7da0-44f4-848d-70e8dd43402c",
   "metadata": {},
   "outputs": [
    {
     "name": "stdout",
     "output_type": "stream",
     "text": [
      "Number of IDs in df_loans_gb not present in df_transactions: 310\n"
     ]
    }
   ],
   "source": [
    "# Perform a left join between df_loans_gb and df_transactions on the 'ID' column\n",
    "df_diff_target = pd.merge(df_loans_gb, df_transactions[['ID']], on='ID', how='left', indicator=True)\n",
    "\n",
    "# Count the number of rows where the ID is not present in df_transactions\n",
    "ids_not_in_transactions = df_diff_target[df_diff_target['_merge'] == 'left_only']['ID'].nunique()\n",
    "\n",
    "print('Number of IDs in df_loans_gb not present in df_transactions:', ids_not_in_transactions)"
   ]
  },
  {
   "cell_type": "markdown",
   "id": "01865c1c-29d1-42d0-b53e-b4404fdf40f8",
   "metadata": {},
   "source": [
    "The number of transactions drastically reduced as well as the number of distinct ID available for the modeling part. Also, the number of missing values for the features that will be extracted for the modeling part in the next steps will increase (since 310 ID do not have these metrics). However the cleaning part above was necessary to not introduce biases in the model."
   ]
  },
  {
   "cell_type": "code",
   "execution_count": 30,
   "id": "c9e84846-8d12-4165-af73-8b49bc42d0c7",
   "metadata": {
    "tags": []
   },
   "outputs": [
    {
     "name": "stdout",
     "output_type": "stream",
     "text": [
      "(1038, 2)\n",
      "(986, 2)\n",
      "(1037, 2)\n"
     ]
    },
    {
     "data": {
      "image/png": "[encoded data removed]",
      "text/plain": [
       "<Figure size 1296x432 with 3 Axes>"
      ]
     },
     "metadata": {
      "needs_background": "light"
     },
     "output_type": "display_data"
    }
   ],
   "source": [
    "# Extract as first feature extract the quantity of transactions per date made by each ID\n",
    "numb_transactions = df_transactions.groupby('ID').size().reset_index(name='count_trans')\n",
    "# Extract number of transactions considering the Positive or Negative AMOUNT\n",
    "positive_transactions = df_transactions[df_transactions['AMOUNT'] >= 0]\n",
    "negative_transactions = df_transactions[df_transactions['AMOUNT'] < 0]\n",
    "# Group by 'ID' and count the number of transactions\n",
    "numb_transactions_positive = positive_transactions.groupby('ID').size().reset_index(name='count_trans_positive')\n",
    "numb_transactions_negative = negative_transactions.groupby('ID').size().reset_index(name='count_trans_negative')\n",
    "\n",
    "print(numb_transactions.shape)\n",
    "print(numb_transactions_positive.shape) \n",
    "print(numb_transactions_negative.shape)\n",
    "\n",
    "# Create a figure with 3 subplots\n",
    "fig, axes = plt.subplots(1, 3, figsize=(18, 6))\n",
    "\n",
    "# Plot the distribution for numb_transactions\n",
    "sns.histplot(data=numb_transactions, x=\"count_trans\", bins=30, ax=axes[0])\n",
    "axes[0].set_title('Number of Total Transactions')\n",
    "axes[0].set_xlabel('Count of Global Transactions')\n",
    "axes[0].set_ylabel('Frequency')\n",
    "      \n",
    "# Plot the distribution for numb_transactions_negative\n",
    "sns.histplot(data=numb_transactions_negative, x=\"count_trans_negative\", bins=30, ax=axes[1], color='red')\n",
    "axes[1].set_title('Number of Negative Transactions')\n",
    "axes[1].set_xlabel('Count of Negative Transactions')\n",
    "axes[1].set_ylabel('Frequency')\n",
    "\n",
    "# Plot the distribution for numb_transactions_positive\n",
    "sns.histplot(data=numb_transactions_positive, x=\"count_trans_positive\", bins=10, ax=axes[2], color='green')\n",
    "axes[2].set_title('Number of Positive Transactions')\n",
    "axes[2].set_xlabel('Count of Positive Transactions')\n",
    "axes[2].set_ylabel('Frequency')\n",
    "\n",
    "# Adjust layout\n",
    "plt.tight_layout()\n",
    "plt.show()"
   ]
  },
  {
   "cell_type": "markdown",
   "id": "2d6f6a34-b391-419e-97ef-704144359832",
   "metadata": {},
   "source": [
    "As expected, the number of payments made is higher than the number of credits received. However, the relevance of the number of credits received can be significant in the discrimination of ID who received and did not receive a loan."
   ]
  },
  {
   "cell_type": "code",
   "execution_count": 31,
   "id": "1dd63779-83fa-4da5-abba-03b5c21fab2a",
   "metadata": {},
   "outputs": [
    {
     "name": "stdout",
     "output_type": "stream",
     "text": [
      "Missing AMOUNT for df_transactions:  0\n",
      "Lower AMOUNT:  -3095\n",
      "Maximum AMOUNT:  31701\n"
     ]
    },
    {
     "data": {
      "image/png": "[encoded data removed]",
      "text/plain": [
       "<Figure size 360x360 with 1 Axes>"
      ]
     },
     "metadata": {
      "needs_background": "light"
     },
     "output_type": "display_data"
    }
   ],
   "source": [
    "# Check Amount (NaN, Distribution)\n",
    "print('Missing AMOUNT for df_transactions: ', df_transactions['AMOUNT'].isna().sum())\n",
    "print('Lower AMOUNT: ', np.min(df_transactions.AMOUNT))\n",
    "print('Maximum AMOUNT: ', np.max(df_transactions.AMOUNT))\n",
    "\n",
    "# Plot the histogram\n",
    "sns.displot(data=df_transactions, x=\"AMOUNT\", bins=30)\n",
    "plt.title('AMOUNT Distribution')\n",
    "plt.xlabel('AMOUNT')\n",
    "plt.ylabel('Frequency')\n",
    "plt.show()"
   ]
  },
  {
   "cell_type": "markdown",
   "id": "d53036d2-7ec3-43bf-9de6-7691528ff77c",
   "metadata": {},
   "source": [
    "The amount of transactions shows negative and positive values. Intuitively, the negative transactions reflect the payments made by every ID. Differently, the positive transactions should reflect the amount received (e.g., salary received). From here, it is possible to extract different features as shown below."
   ]
  },
  {
   "cell_type": "code",
   "execution_count": 32,
   "id": "59496ae4-c16b-4837-b55a-de14d4f0517b",
   "metadata": {},
   "outputs": [
    {
     "name": "stdout",
     "output_type": "stream",
     "text": [
      "(1038, 2)\n",
      "(986, 2)\n",
      "(1037, 2)\n"
     ]
    },
    {
     "data": {
      "image/png": "[encoded data removed]",
      "text/plain": [
       "<Figure size 1296x432 with 3 Axes>"
      ]
     },
     "metadata": {
      "needs_background": "light"
     },
     "output_type": "display_data"
    }
   ],
   "source": [
    "# Extract 3 feats: sum of all transactions, sum of payments (negative values), sum of credits received (positive values)\n",
    "sum_of_amount = df_transactions.groupby('ID')['AMOUNT'].sum().reset_index(name='net_amount')\n",
    "positive_sum_of_amount = df_transactions[df_transactions['AMOUNT'] >= 0].groupby('ID')['AMOUNT'].sum().reset_index(name='sum_credits')\n",
    "negative_sum_of_amount = df_transactions[df_transactions['AMOUNT'] < 0].groupby('ID')['AMOUNT'].sum().reset_index(name='sum_payments')\n",
    "print(sum_of_amount.shape)\n",
    "print(positive_sum_of_amount.shape)\n",
    "print(negative_sum_of_amount.shape)\n",
    "\n",
    "# Create a figure with three subplots\n",
    "fig, axes = plt.subplots(1, 3, figsize=(18, 6))\n",
    "\n",
    "# Plot the distribution for sum_of_amount\n",
    "sns.histplot(data=sum_of_amount, x=\"net_amount\", bins=30, ax=axes[0])\n",
    "axes[0].set_title('Net Amount')\n",
    "axes[0].set_xlabel('Net Amount')\n",
    "axes[0].set_ylabel('Frequency')\n",
    "\n",
    "# Plot the distribution for positive_sum_of_amount\n",
    "sns.histplot(data=positive_sum_of_amount, x=\"sum_credits\", bins=30, ax=axes[1], color='green')\n",
    "axes[1].set_title('Positive Total Amount (Credits)')\n",
    "axes[1].set_xlabel('Positive Total Amount (Credits)')\n",
    "axes[1].set_ylabel('Frequency')\n",
    "\n",
    "# Plot the distribution for negative_sum_of_amount\n",
    "sns.histplot(data=negative_sum_of_amount, x=\"sum_payments\", bins=30, ax=axes[2], color='red')\n",
    "axes[2].set_title('Negative Total Amount (Payments)')\n",
    "axes[2].set_xlabel('Negative Total Amount (Payments)')\n",
    "axes[2].set_ylabel('Frequency')\n",
    "\n",
    "# Adjust layout\n",
    "plt.tight_layout()\n",
    "plt.show()"
   ]
  },
  {
   "cell_type": "markdown",
   "id": "af9526d1-5cf6-447a-b8a4-a0fc2e634a62",
   "metadata": {},
   "source": [
    "The net amount of transactions suggests a normal distribution. However, a deeper investigation shows a slight left and right distribution for negative and positive transactions respectively. This level of detail can help the model to discriminate the target."
   ]
  },
  {
   "cell_type": "code",
   "execution_count": 33,
   "id": "16cf42d4-b82f-4807-a2aa-c478a65a4ae0",
   "metadata": {},
   "outputs": [
    {
     "name": "stdout",
     "output_type": "stream",
     "text": [
      "Missing Balance for df_transactions:  3725\n",
      "Percentage of Missing Balance for df_transactions: 14.83 %\n"
     ]
    },
    {
     "data": {
      "image/png": "[encoded data removed]",
      "text/plain": [
       "<Figure size 360x360 with 1 Axes>"
      ]
     },
     "metadata": {
      "needs_background": "light"
     },
     "output_type": "display_data"
    }
   ],
   "source": [
    "# Check Balance (NaN, Distribution) \n",
    "print('Missing Balance for df_transactions: ', df_transactions['BALANCE'].isna().sum())\n",
    "percentage_missing = round(df_transactions['BALANCE'].isna().sum() / len(df_transactions) * 100, 2)\n",
    "print('Percentage of Missing Balance for df_transactions:', percentage_missing, '%')\n",
    "\n",
    "sns.displot(data=df_transactions, x=\"BALANCE\", bins=30)\n",
    "plt.title('BALANCE DISTRIBUTION')\n",
    "plt.xlabel('Balance')\n",
    "plt.ylabel('Frequency')\n",
    "plt.show()"
   ]
  },
  {
   "cell_type": "markdown",
   "id": "c52cb505-4a84-4f78-8f8a-d059c7408d52",
   "metadata": {},
   "source": [
    "The plot shows a right skewed distribution for the balance of all the transactions with a long tail to the right, suggesting the presence of outliers. In order to be consistent with the creation of the target (i.e., where I picked the most recent OUTCOME as proxy for class 0 and 1), I will impute the NaN with mean BALANCE value of each ID, and then take the most recent balance as new feature.  After, I will extract a feature coming from a division of the Balance and Amount to get a 'balance score' for each transaction. A lower balance score should suggest a higher financial stability for the client. "
   ]
  },
  {
   "cell_type": "code",
   "execution_count": 34,
   "id": "f576470c-441b-44aa-9576-81b6b2fef419",
   "metadata": {},
   "outputs": [
    {
     "name": "stdout",
     "output_type": "stream",
     "text": [
      "Percentage of distinct IDs with missing balance: 90.56 %\n"
     ]
    }
   ],
   "source": [
    "# Check how many IDs do not have BALANCE\n",
    "missing_balance = df_transactions[df_transactions['BALANCE'].isna()]\n",
    "\n",
    "# Calculate the total number of distinct IDs\n",
    "total_distinct_ids = df_transactions['ID'].nunique()\n",
    "\n",
    "# Calculate the number of distinct IDs with missing balance\n",
    "distinct_ids_missing_balance = missing_balance['ID'].nunique()\n",
    "\n",
    "# Calculate the percentage of distinct IDs with missing balance\n",
    "percentage_missing_balance = (distinct_ids_missing_balance / total_distinct_ids) * 100\n",
    "\n",
    "# Print the percentage\n",
    "print('Percentage of distinct IDs with missing balance:', round(percentage_missing_balance, 2), '%')"
   ]
  },
  {
   "cell_type": "markdown",
   "id": "e30925e0-a7e3-41d1-b631-90fa7ada09dd",
   "metadata": {},
   "source": [
    "9 out of 10 IDs have missing values in their balance history. However, given the small percentage of missing overall (less than 15%), we can impute the mean of the ID for these transactions."
   ]
  },
  {
   "cell_type": "code",
   "execution_count": 35,
   "id": "b366417a-3f52-4865-bf17-eb692872f202",
   "metadata": {},
   "outputs": [
    {
     "name": "stdout",
     "output_type": "stream",
     "text": [
      "(1038, 2)\n"
     ]
    },
    {
     "data": {
      "text/html": [
       "<div>\n",
       "<style scoped>\n",
       "    .dataframe tbody tr th:only-of-type {\n",
       "        vertical-align: middle;\n",
       "    }\n",
       "\n",
       "    .dataframe tbody tr th {\n",
       "        vertical-align: top;\n",
       "    }\n",
       "\n",
       "    .dataframe thead th {\n",
       "        text-align: right;\n",
       "    }\n",
       "</style>\n",
       "<table border=\"1\" class=\"dataframe\">\n",
       "  <thead>\n",
       "    <tr style=\"text-align: right;\">\n",
       "      <th></th>\n",
       "      <th>ID</th>\n",
       "      <th>latest_balance</th>\n",
       "    </tr>\n",
       "  </thead>\n",
       "  <tbody>\n",
       "    <tr>\n",
       "      <th>0</th>\n",
       "      <td>++SMIKU/</td>\n",
       "      <td>8945.0</td>\n",
       "    </tr>\n",
       "    <tr>\n",
       "      <th>1</th>\n",
       "      <td>+E4MIDN7</td>\n",
       "      <td>8023.0</td>\n",
       "    </tr>\n",
       "    <tr>\n",
       "      <th>2</th>\n",
       "      <td>+LDXZSXW</td>\n",
       "      <td>2753.0</td>\n",
       "    </tr>\n",
       "    <tr>\n",
       "      <th>3</th>\n",
       "      <td>+MMD4AEU</td>\n",
       "      <td>769.0</td>\n",
       "    </tr>\n",
       "    <tr>\n",
       "      <th>4</th>\n",
       "      <td>+SIVL6ZN</td>\n",
       "      <td>3210.0</td>\n",
       "    </tr>\n",
       "  </tbody>\n",
       "</table>\n",
       "</div>"
      ],
      "text/plain": [
       "         ID  latest_balance\n",
       "0  ++SMIKU/          8945.0\n",
       "1  +E4MIDN7          8023.0\n",
       "2  +LDXZSXW          2753.0\n",
       "3  +MMD4AEU           769.0\n",
       "4  +SIVL6ZN          3210.0"
      ]
     },
     "execution_count": 35,
     "metadata": {},
     "output_type": "execute_result"
    }
   ],
   "source": [
    "# Impute missing values with the mean of each ID\n",
    "df_transactions['BALANCE'] = df_transactions.groupby('ID')['BALANCE'].transform(lambda x: x.fillna(x.mean()))\n",
    "\n",
    "# Calculate the overall mean of the 'BALANCE' column\n",
    "overall_mean = df_transactions['BALANCE'].mean()\n",
    "# Fill remaining NaN values with the overall mean\n",
    "df_transactions['BALANCE'] = df_transactions['BALANCE'].fillna(overall_mean)\n",
    "\n",
    "# Sort the DataFrame by DATE in descending order\n",
    "df_transactions_sorted = df_transactions.sort_values(by='DATE', ascending=False)\n",
    "# Group by ID and select the first row for each group\n",
    "latest_balance_ID = df_transactions_sorted.groupby('ID').first()\n",
    "\n",
    "# Extract the BALANCE column from the result\n",
    "latest_balance_ID = latest_balance_ID['BALANCE'].reset_index(name='latest_balance')\n",
    "\n",
    "print(latest_balance_ID.shape)\n",
    "latest_balance_ID.head()"
   ]
  },
  {
   "cell_type": "code",
   "execution_count": 36,
   "id": "d929eaea-0853-4691-9e9f-8d00549f5a95",
   "metadata": {},
   "outputs": [
    {
     "data": {
      "image/png": "[encoded data removed]",
      "text/plain": [
       "<Figure size 360x360 with 1 Axes>"
      ]
     },
     "metadata": {
      "needs_background": "light"
     },
     "output_type": "display_data"
    }
   ],
   "source": [
    "# Plot the distribution of the latest balance\n",
    "sns.displot(data=latest_balance_ID, x=\"latest_balance\", bins=30)\n",
    "plt.title('LATEST BALANCE DISTRIBUTION')\n",
    "plt.xlabel('Latest Balance')\n",
    "plt.ylabel('Frequency')\n",
    "plt.show()"
   ]
  },
  {
   "cell_type": "markdown",
   "id": "78017f08-d46c-4080-a2e6-27580513115f",
   "metadata": {},
   "source": [
    "The distribution is less smooth on the left after the transformation. I will convert the values into two different scales (lof and sqrt). I will compare the output of the 2 different transformations to see what's the best for this user case. "
   ]
  },
  {
   "cell_type": "code",
   "execution_count": 37,
   "id": "ce581cef-5fd4-40e3-9fde-280abd999115",
   "metadata": {},
   "outputs": [
    {
     "data": {
      "image/png": "[encoded data removed]",
      "text/plain": [
       "<Figure size 1080x432 with 2 Axes>"
      ]
     },
     "metadata": {
      "needs_background": "light"
     },
     "output_type": "display_data"
    }
   ],
   "source": [
    "# Convert Latest_Balance column to log scale\n",
    "latest_balance_ID['latest_balance_log'] = np.log(latest_balance_ID['latest_balance'])\n",
    "# Convert Latest_Balance column to square root scale\n",
    "latest_balance_ID['latest_balance_sqrt'] = round(np.sqrt(latest_balance_ID['latest_balance']), 2)\n",
    "\n",
    "# Create a figure with three subplots\n",
    "fig, axes = plt.subplots(1, 2, figsize=(15, 6))\n",
    "\n",
    "# Plot the distribution of the latest balance\n",
    "sns.histplot(data=latest_balance_ID, x=\"latest_balance_log\", bins=30, ax=axes[0], color='black')\n",
    "axes[0].set_title('LATEST LOG BALANCE DISTRIBUTION')\n",
    "axes[0].set_xlabel('Latest Log Balance')\n",
    "axes[0].set_ylabel('Frequency')\n",
    "\n",
    "sns.histplot(data=latest_balance_ID, x=\"latest_balance_sqrt\", bins=30, ax=axes[1], color='orange')\n",
    "axes[1].set_title('LATEST SQRT BALANCE DISTRIBUTION')\n",
    "axes[1].set_xlabel('Latest Sqrt Balance')\n",
    "axes[1].set_ylabel('Frequency')\n",
    "\n",
    "# Adjust layout\n",
    "plt.tight_layout()\n",
    "plt.show()"
   ]
  },
  {
   "cell_type": "markdown",
   "id": "812b152e-9574-49df-a64b-a1ea87759347",
   "metadata": {},
   "source": [
    "The Log transformation transposes the skewness of the data to the other side (from right to left skew distribution). Differently, the Sqrt transformation shaped the data suggesting (almost) a bimodal distribution. As future improvement, it would be adeguate to use different transformations or pre process the feature differently (e.g., not taking the most recent balance for example). For the purpose of this excercise, I will pick the Log scale as input for the modeling. "
   ]
  },
  {
   "cell_type": "code",
   "execution_count": 38,
   "id": "4e9be82c-580c-418a-a487-c262b9aef2c7",
   "metadata": {},
   "outputs": [
    {
     "data": {
      "text/html": [
       "<div>\n",
       "<style scoped>\n",
       "    .dataframe tbody tr th:only-of-type {\n",
       "        vertical-align: middle;\n",
       "    }\n",
       "\n",
       "    .dataframe tbody tr th {\n",
       "        vertical-align: top;\n",
       "    }\n",
       "\n",
       "    .dataframe thead th {\n",
       "        text-align: right;\n",
       "    }\n",
       "</style>\n",
       "<table border=\"1\" class=\"dataframe\">\n",
       "  <thead>\n",
       "    <tr style=\"text-align: right;\">\n",
       "      <th></th>\n",
       "      <th>ID</th>\n",
       "      <th>latest_balance_log</th>\n",
       "    </tr>\n",
       "  </thead>\n",
       "  <tbody>\n",
       "    <tr>\n",
       "      <th>0</th>\n",
       "      <td>++SMIKU/</td>\n",
       "      <td>9.098850</td>\n",
       "    </tr>\n",
       "    <tr>\n",
       "      <th>1</th>\n",
       "      <td>+E4MIDN7</td>\n",
       "      <td>8.990068</td>\n",
       "    </tr>\n",
       "    <tr>\n",
       "      <th>2</th>\n",
       "      <td>+LDXZSXW</td>\n",
       "      <td>7.920447</td>\n",
       "    </tr>\n",
       "    <tr>\n",
       "      <th>3</th>\n",
       "      <td>+MMD4AEU</td>\n",
       "      <td>6.645091</td>\n",
       "    </tr>\n",
       "    <tr>\n",
       "      <th>4</th>\n",
       "      <td>+SIVL6ZN</td>\n",
       "      <td>8.074026</td>\n",
       "    </tr>\n",
       "  </tbody>\n",
       "</table>\n",
       "</div>"
      ],
      "text/plain": [
       "         ID  latest_balance_log\n",
       "0  ++SMIKU/            9.098850\n",
       "1  +E4MIDN7            8.990068\n",
       "2  +LDXZSXW            7.920447\n",
       "3  +MMD4AEU            6.645091\n",
       "4  +SIVL6ZN            8.074026"
      ]
     },
     "execution_count": 38,
     "metadata": {},
     "output_type": "execute_result"
    }
   ],
   "source": [
    "# Filter transformation chosen\n",
    "latest_balance_ID = latest_balance_ID[['ID', 'latest_balance_log']].copy()\n",
    "latest_balance_ID.head()"
   ]
  },
  {
   "cell_type": "code",
   "execution_count": 39,
   "id": "08645e5d-6283-4870-86ec-0d8653e000fd",
   "metadata": {},
   "outputs": [
    {
     "data": {
      "image/png": "[encoded data removed]",
      "text/plain": [
       "<Figure size 360x360 with 1 Axes>"
      ]
     },
     "metadata": {
      "needs_background": "light"
     },
     "output_type": "display_data"
    }
   ],
   "source": [
    "# Divide AMOUNT with BALANCE in order to get for each transaction a 'balance-score' (lower indicates better stability) \n",
    "\n",
    "# Apply lambda function to calculate balance_score\n",
    "df_transactions['balance_score'] = df_transactions.apply(lambda row: 0 if row['AMOUNT'] > 0 \n",
    "                                                         else min(abs(row['AMOUNT']) / row['BALANCE'], 1) if row['BALANCE'] != 0 else 0, axis=1)\n",
    "#if AMOUNT positive (so the Balance will increase) we assign 0 for balance score (min value)\n",
    "#if BALANCE is negative we assign max value of the score (1)\n",
    "#if b_score > 1 we assign 1 as max value \n",
    "\n",
    "# Plot the distribution of the latest balance\n",
    "sns.displot(data=df_transactions, x=\"balance_score\", bins=30)\n",
    "plt.title('BALANCE SCORE')\n",
    "plt.xlabel('Balance Score')\n",
    "plt.ylabel('Frequency')\n",
    "plt.show()"
   ]
  },
  {
   "cell_type": "code",
   "execution_count": 40,
   "id": "2979246b-a98e-4eae-ba6c-6aa85073c717",
   "metadata": {},
   "outputs": [
    {
     "name": "stdout",
     "output_type": "stream",
     "text": [
      "(1038, 3)\n"
     ]
    },
    {
     "data": {
      "text/html": [
       "<div>\n",
       "<style scoped>\n",
       "    .dataframe tbody tr th:only-of-type {\n",
       "        vertical-align: middle;\n",
       "    }\n",
       "\n",
       "    .dataframe tbody tr th {\n",
       "        vertical-align: top;\n",
       "    }\n",
       "\n",
       "    .dataframe thead th {\n",
       "        text-align: right;\n",
       "    }\n",
       "</style>\n",
       "<table border=\"1\" class=\"dataframe\">\n",
       "  <thead>\n",
       "    <tr style=\"text-align: right;\">\n",
       "      <th></th>\n",
       "      <th>ID</th>\n",
       "      <th>recent_bscore</th>\n",
       "      <th>avg_bscore</th>\n",
       "    </tr>\n",
       "  </thead>\n",
       "  <tbody>\n",
       "    <tr>\n",
       "      <th>0</th>\n",
       "      <td>++SMIKU/</td>\n",
       "      <td>0.25</td>\n",
       "      <td>0.13</td>\n",
       "    </tr>\n",
       "    <tr>\n",
       "      <th>1</th>\n",
       "      <td>+E4MIDN7</td>\n",
       "      <td>0.09</td>\n",
       "      <td>0.21</td>\n",
       "    </tr>\n",
       "    <tr>\n",
       "      <th>2</th>\n",
       "      <td>+LDXZSXW</td>\n",
       "      <td>0.19</td>\n",
       "      <td>0.29</td>\n",
       "    </tr>\n",
       "    <tr>\n",
       "      <th>3</th>\n",
       "      <td>+MMD4AEU</td>\n",
       "      <td>0.00</td>\n",
       "      <td>0.15</td>\n",
       "    </tr>\n",
       "    <tr>\n",
       "      <th>4</th>\n",
       "      <td>+SIVL6ZN</td>\n",
       "      <td>0.22</td>\n",
       "      <td>0.26</td>\n",
       "    </tr>\n",
       "  </tbody>\n",
       "</table>\n",
       "</div>"
      ],
      "text/plain": [
       "         ID  recent_bscore  avg_bscore\n",
       "0  ++SMIKU/           0.25        0.13\n",
       "1  +E4MIDN7           0.09        0.21\n",
       "2  +LDXZSXW           0.19        0.29\n",
       "3  +MMD4AEU           0.00        0.15\n",
       "4  +SIVL6ZN           0.22        0.26"
      ]
     },
     "execution_count": 40,
     "metadata": {},
     "output_type": "execute_result"
    }
   ],
   "source": [
    "# Get avg balance score in the last 3 months + the most recent balance score\n",
    "balance_score_df = df_transactions.groupby('ID').agg(\n",
    "    recent_bscore=('balance_score', lambda x: x.iloc[-1]),  # Most recent balance_score\n",
    "    avg_bscore=('balance_score', 'mean')  # Average balance_score\n",
    ")\n",
    "\n",
    "# Reset index to make 'ID' a column again\n",
    "balance_score_df = balance_score_df.reset_index()\n",
    "balance_score_df = balance_score_df.round({'recent_bscore': 2, 'avg_bscore': 2})\n",
    "\n",
    "print(balance_score_df.shape)\n",
    "balance_score_df.head()"
   ]
  },
  {
   "cell_type": "code",
   "execution_count": 41,
   "id": "81199f9e-b0d6-4c00-b61d-9efd4e1511d5",
   "metadata": {},
   "outputs": [
    {
     "data": {
      "image/png": "[encoded data removed]",
      "text/plain": [
       "<Figure size 1080x432 with 2 Axes>"
      ]
     },
     "metadata": {
      "needs_background": "light"
     },
     "output_type": "display_data"
    }
   ],
   "source": [
    "# Visualize the new features\n",
    "fig, axes = plt.subplots(1, 2, figsize=(15, 6))\n",
    "\n",
    "# Plot the distribution of the most recent balance score and average balance score\n",
    "sns.histplot(data=balance_score_df, x=\"recent_bscore\", bins=20, ax=axes[0], color='black')\n",
    "axes[0].set_title('MOST RECENT BALANCE SCORE DISTRIBUTION')\n",
    "axes[0].set_xlabel('Most Recent Balance Score')\n",
    "axes[0].set_ylabel('Frequency')\n",
    "\n",
    "sns.histplot(data=balance_score_df, x=\"avg_bscore\", bins=20, ax=axes[1], color='orange')\n",
    "axes[1].set_title('AVERAGE BALANCE SCORE DISTRIBUTION')\n",
    "axes[1].set_xlabel('Average Balance Score')\n",
    "axes[1].set_ylabel('Frequency')\n",
    "\n",
    "# Adjust layout\n",
    "plt.tight_layout()\n",
    "plt.show()"
   ]
  },
  {
   "cell_type": "code",
   "execution_count": 42,
   "id": "c969fbb2-2c0b-409e-ab36-e4b62aab5f9d",
   "metadata": {},
   "outputs": [
    {
     "name": "stdout",
     "output_type": "stream",
     "text": [
      "(2500, 13)\n",
      " \n",
      "Missing values for each column: \n",
      "ID                         0\n",
      "net_amount              1462\n",
      "sum_credits             1514\n",
      "sum_payments            1463\n",
      "count_trans             1462\n",
      "count_trans_negative    1463\n",
      "count_trans_positive    1514\n",
      "latest_balance_log      1462\n",
      "GENDER                     0\n",
      "AGE                        0\n",
      "INCOME                     0\n",
      "recent_bscore           1462\n",
      "avg_bscore              1462\n",
      "dtype: int64\n"
     ]
    },
    {
     "data": {
      "text/html": [
       "<div>\n",
       "<style scoped>\n",
       "    .dataframe tbody tr th:only-of-type {\n",
       "        vertical-align: middle;\n",
       "    }\n",
       "\n",
       "    .dataframe tbody tr th {\n",
       "        vertical-align: top;\n",
       "    }\n",
       "\n",
       "    .dataframe thead th {\n",
       "        text-align: right;\n",
       "    }\n",
       "</style>\n",
       "<table border=\"1\" class=\"dataframe\">\n",
       "  <thead>\n",
       "    <tr style=\"text-align: right;\">\n",
       "      <th></th>\n",
       "      <th>ID</th>\n",
       "      <th>net_amount</th>\n",
       "      <th>sum_credits</th>\n",
       "      <th>sum_payments</th>\n",
       "      <th>count_trans</th>\n",
       "      <th>count_trans_negative</th>\n",
       "      <th>count_trans_positive</th>\n",
       "      <th>latest_balance_log</th>\n",
       "      <th>GENDER</th>\n",
       "      <th>AGE</th>\n",
       "      <th>INCOME</th>\n",
       "      <th>recent_bscore</th>\n",
       "      <th>avg_bscore</th>\n",
       "    </tr>\n",
       "  </thead>\n",
       "  <tbody>\n",
       "    <tr>\n",
       "      <th>0</th>\n",
       "      <td>++SMIKU/</td>\n",
       "      <td>5495.0</td>\n",
       "      <td>9942.0</td>\n",
       "      <td>-4447.0</td>\n",
       "      <td>6.0</td>\n",
       "      <td>5.0</td>\n",
       "      <td>1.0</td>\n",
       "      <td>9.098850</td>\n",
       "      <td>0</td>\n",
       "      <td>30.0</td>\n",
       "      <td>9942.0</td>\n",
       "      <td>0.25</td>\n",
       "      <td>0.13</td>\n",
       "    </tr>\n",
       "    <tr>\n",
       "      <th>1</th>\n",
       "      <td>+E4MIDN7</td>\n",
       "      <td>1455.0</td>\n",
       "      <td>32427.0</td>\n",
       "      <td>-30972.0</td>\n",
       "      <td>29.0</td>\n",
       "      <td>26.0</td>\n",
       "      <td>3.0</td>\n",
       "      <td>8.990068</td>\n",
       "      <td>0</td>\n",
       "      <td>44.0</td>\n",
       "      <td>10809.0</td>\n",
       "      <td>0.09</td>\n",
       "      <td>0.21</td>\n",
       "    </tr>\n",
       "    <tr>\n",
       "      <th>2</th>\n",
       "      <td>+LDXZSXW</td>\n",
       "      <td>1118.0</td>\n",
       "      <td>23918.0</td>\n",
       "      <td>-22800.0</td>\n",
       "      <td>17.0</td>\n",
       "      <td>15.0</td>\n",
       "      <td>2.0</td>\n",
       "      <td>7.920447</td>\n",
       "      <td>0</td>\n",
       "      <td>46.0</td>\n",
       "      <td>11959.0</td>\n",
       "      <td>0.19</td>\n",
       "      <td>0.29</td>\n",
       "    </tr>\n",
       "    <tr>\n",
       "      <th>3</th>\n",
       "      <td>+MMD4AEU</td>\n",
       "      <td>-18307.0</td>\n",
       "      <td>21226.0</td>\n",
       "      <td>-39533.0</td>\n",
       "      <td>42.0</td>\n",
       "      <td>40.0</td>\n",
       "      <td>2.0</td>\n",
       "      <td>6.645091</td>\n",
       "      <td>0</td>\n",
       "      <td>20.0</td>\n",
       "      <td>10613.0</td>\n",
       "      <td>0.00</td>\n",
       "      <td>0.15</td>\n",
       "    </tr>\n",
       "    <tr>\n",
       "      <th>4</th>\n",
       "      <td>+SIVL6ZN</td>\n",
       "      <td>5476.0</td>\n",
       "      <td>34803.0</td>\n",
       "      <td>-29327.0</td>\n",
       "      <td>29.0</td>\n",
       "      <td>26.0</td>\n",
       "      <td>3.0</td>\n",
       "      <td>8.074026</td>\n",
       "      <td>0</td>\n",
       "      <td>44.0</td>\n",
       "      <td>11601.0</td>\n",
       "      <td>0.22</td>\n",
       "      <td>0.26</td>\n",
       "    </tr>\n",
       "  </tbody>\n",
       "</table>\n",
       "</div>"
      ],
      "text/plain": [
       "         ID  net_amount  sum_credits  sum_payments  count_trans  \\\n",
       "0  ++SMIKU/      5495.0       9942.0       -4447.0          6.0   \n",
       "1  +E4MIDN7      1455.0      32427.0      -30972.0         29.0   \n",
       "2  +LDXZSXW      1118.0      23918.0      -22800.0         17.0   \n",
       "3  +MMD4AEU    -18307.0      21226.0      -39533.0         42.0   \n",
       "4  +SIVL6ZN      5476.0      34803.0      -29327.0         29.0   \n",
       "\n",
       "   count_trans_negative  count_trans_positive  latest_balance_log  GENDER  \\\n",
       "0                   5.0                   1.0            9.098850       0   \n",
       "1                  26.0                   3.0            8.990068       0   \n",
       "2                  15.0                   2.0            7.920447       0   \n",
       "3                  40.0                   2.0            6.645091       0   \n",
       "4                  26.0                   3.0            8.074026       0   \n",
       "\n",
       "    AGE   INCOME  recent_bscore  avg_bscore  \n",
       "0  30.0   9942.0           0.25        0.13  \n",
       "1  44.0  10809.0           0.09        0.21  \n",
       "2  46.0  11959.0           0.19        0.29  \n",
       "3  20.0  10613.0           0.00        0.15  \n",
       "4  44.0  11601.0           0.22        0.26  "
      ]
     },
     "execution_count": 42,
     "metadata": {},
     "output_type": "execute_result"
    }
   ],
   "source": [
    "# Merge all the features in one\n",
    "# AMOUNT FEATS\n",
    "feats_df = pd.merge(sum_of_amount, positive_sum_of_amount, on='ID', how='outer')\n",
    "feats_df = pd.merge(feats_df, negative_sum_of_amount, on='ID', how='outer')\n",
    "\n",
    "# TRANSACTIONS FEATS\n",
    "feats_df = pd.merge(feats_df, numb_transactions, on='ID', how='outer')\n",
    "feats_df = pd.merge(feats_df, numb_transactions_negative, on='ID', how='outer')\n",
    "feats_df = pd.merge(feats_df, numb_transactions_positive, on='ID', how='outer')\n",
    "\n",
    "# BALANCE FEAT\n",
    "feats_df = pd.merge(feats_df, latest_balance_ID, on='ID', how='outer')\n",
    "\n",
    "# CUSTOMER FEATS\n",
    "feats_df = pd.merge(feats_df, df_customers, on='ID', how='outer')\n",
    "\n",
    "# BALANCE-SCORE FEATS\n",
    "feats_df = pd.merge(feats_df, balance_score_df, on='ID', how='outer')\n",
    "\n",
    "print(feats_df.shape)\n",
    "print(' ')\n",
    "print('Missing values for each column: ')\n",
    "print(feats_df.isna().sum())\n",
    "feats_df.head()"
   ]
  },
  {
   "cell_type": "code",
   "execution_count": 43,
   "id": "4aaf6b9b-8ea8-490c-84ca-d487c2139ffe",
   "metadata": {},
   "outputs": [
    {
     "name": "stdout",
     "output_type": "stream",
     "text": [
      "Shape of the modeling df:  (2500, 16)\n",
      " \n",
      "Missing values for each column: \n",
      "ID                         0\n",
      "target                  1152\n",
      "max_DATE                1152\n",
      "loan_amt                1152\n",
      "net_amount              1462\n",
      "sum_credits             1514\n",
      "sum_payments            1463\n",
      "count_trans             1462\n",
      "count_trans_negative    1463\n",
      "count_trans_positive    1514\n",
      "latest_balance_log      1462\n",
      "GENDER                     0\n",
      "AGE                        0\n",
      "INCOME                     0\n",
      "recent_bscore           1462\n",
      "avg_bscore              1462\n",
      "dtype: int64\n"
     ]
    },
    {
     "data": {
      "text/html": [
       "<div>\n",
       "<style scoped>\n",
       "    .dataframe tbody tr th:only-of-type {\n",
       "        vertical-align: middle;\n",
       "    }\n",
       "\n",
       "    .dataframe tbody tr th {\n",
       "        vertical-align: top;\n",
       "    }\n",
       "\n",
       "    .dataframe thead th {\n",
       "        text-align: right;\n",
       "    }\n",
       "</style>\n",
       "<table border=\"1\" class=\"dataframe\">\n",
       "  <thead>\n",
       "    <tr style=\"text-align: right;\">\n",
       "      <th></th>\n",
       "      <th>ID</th>\n",
       "      <th>target</th>\n",
       "      <th>max_DATE</th>\n",
       "      <th>loan_amt</th>\n",
       "      <th>net_amount</th>\n",
       "      <th>sum_credits</th>\n",
       "      <th>sum_payments</th>\n",
       "      <th>count_trans</th>\n",
       "      <th>count_trans_negative</th>\n",
       "      <th>count_trans_positive</th>\n",
       "      <th>latest_balance_log</th>\n",
       "      <th>GENDER</th>\n",
       "      <th>AGE</th>\n",
       "      <th>INCOME</th>\n",
       "      <th>recent_bscore</th>\n",
       "      <th>avg_bscore</th>\n",
       "    </tr>\n",
       "  </thead>\n",
       "  <tbody>\n",
       "    <tr>\n",
       "      <th>0</th>\n",
       "      <td>++SMIKU/</td>\n",
       "      <td>0.0</td>\n",
       "      <td>2022-05-23</td>\n",
       "      <td>16021.0</td>\n",
       "      <td>5495.0</td>\n",
       "      <td>9942.0</td>\n",
       "      <td>-4447.0</td>\n",
       "      <td>6.0</td>\n",
       "      <td>5.0</td>\n",
       "      <td>1.0</td>\n",
       "      <td>9.098850</td>\n",
       "      <td>0</td>\n",
       "      <td>30.0</td>\n",
       "      <td>9942.0</td>\n",
       "      <td>0.25</td>\n",
       "      <td>0.13</td>\n",
       "    </tr>\n",
       "    <tr>\n",
       "      <th>1</th>\n",
       "      <td>++YL0APY</td>\n",
       "      <td>1.0</td>\n",
       "      <td>2022-04-17</td>\n",
       "      <td>14603.0</td>\n",
       "      <td>NaN</td>\n",
       "      <td>NaN</td>\n",
       "      <td>NaN</td>\n",
       "      <td>NaN</td>\n",
       "      <td>NaN</td>\n",
       "      <td>NaN</td>\n",
       "      <td>NaN</td>\n",
       "      <td>0</td>\n",
       "      <td>36.0</td>\n",
       "      <td>10385.0</td>\n",
       "      <td>NaN</td>\n",
       "      <td>NaN</td>\n",
       "    </tr>\n",
       "    <tr>\n",
       "      <th>2</th>\n",
       "      <td>+E4MIDN7</td>\n",
       "      <td>0.0</td>\n",
       "      <td>2022-08-21</td>\n",
       "      <td>18517.0</td>\n",
       "      <td>1455.0</td>\n",
       "      <td>32427.0</td>\n",
       "      <td>-30972.0</td>\n",
       "      <td>29.0</td>\n",
       "      <td>26.0</td>\n",
       "      <td>3.0</td>\n",
       "      <td>8.990068</td>\n",
       "      <td>0</td>\n",
       "      <td>44.0</td>\n",
       "      <td>10809.0</td>\n",
       "      <td>0.09</td>\n",
       "      <td>0.21</td>\n",
       "    </tr>\n",
       "    <tr>\n",
       "      <th>3</th>\n",
       "      <td>+EF470O/</td>\n",
       "      <td>0.0</td>\n",
       "      <td>2022-01-15</td>\n",
       "      <td>17734.0</td>\n",
       "      <td>NaN</td>\n",
       "      <td>NaN</td>\n",
       "      <td>NaN</td>\n",
       "      <td>NaN</td>\n",
       "      <td>NaN</td>\n",
       "      <td>NaN</td>\n",
       "      <td>NaN</td>\n",
       "      <td>0</td>\n",
       "      <td>27.0</td>\n",
       "      <td>10068.0</td>\n",
       "      <td>NaN</td>\n",
       "      <td>NaN</td>\n",
       "    </tr>\n",
       "    <tr>\n",
       "      <th>4</th>\n",
       "      <td>+LDXZSXW</td>\n",
       "      <td>0.0</td>\n",
       "      <td>2022-07-02</td>\n",
       "      <td>25138.0</td>\n",
       "      <td>1118.0</td>\n",
       "      <td>23918.0</td>\n",
       "      <td>-22800.0</td>\n",
       "      <td>17.0</td>\n",
       "      <td>15.0</td>\n",
       "      <td>2.0</td>\n",
       "      <td>7.920447</td>\n",
       "      <td>0</td>\n",
       "      <td>46.0</td>\n",
       "      <td>11959.0</td>\n",
       "      <td>0.19</td>\n",
       "      <td>0.29</td>\n",
       "    </tr>\n",
       "  </tbody>\n",
       "</table>\n",
       "</div>"
      ],
      "text/plain": [
       "         ID  target   max_DATE  loan_amt  net_amount  sum_credits  \\\n",
       "0  ++SMIKU/     0.0 2022-05-23   16021.0      5495.0       9942.0   \n",
       "1  ++YL0APY     1.0 2022-04-17   14603.0         NaN          NaN   \n",
       "2  +E4MIDN7     0.0 2022-08-21   18517.0      1455.0      32427.0   \n",
       "3  +EF470O/     0.0 2022-01-15   17734.0         NaN          NaN   \n",
       "4  +LDXZSXW     0.0 2022-07-02   25138.0      1118.0      23918.0   \n",
       "\n",
       "   sum_payments  count_trans  count_trans_negative  count_trans_positive  \\\n",
       "0       -4447.0          6.0                   5.0                   1.0   \n",
       "1           NaN          NaN                   NaN                   NaN   \n",
       "2      -30972.0         29.0                  26.0                   3.0   \n",
       "3           NaN          NaN                   NaN                   NaN   \n",
       "4      -22800.0         17.0                  15.0                   2.0   \n",
       "\n",
       "   latest_balance_log  GENDER   AGE   INCOME  recent_bscore  avg_bscore  \n",
       "0            9.098850       0  30.0   9942.0           0.25        0.13  \n",
       "1                 NaN       0  36.0  10385.0            NaN         NaN  \n",
       "2            8.990068       0  44.0  10809.0           0.09        0.21  \n",
       "3                 NaN       0  27.0  10068.0            NaN         NaN  \n",
       "4            7.920447       0  46.0  11959.0           0.19        0.29  "
      ]
     },
     "execution_count": 43,
     "metadata": {},
     "output_type": "execute_result"
    }
   ],
   "source": [
    "# Join the features with the target stored in df_loans_gb\n",
    "model_df = pd.merge(df_loans_gb, feats_df, on='ID', how='outer')\n",
    "print('Shape of the modeling df: ', model_df.shape)\n",
    "print(' ')\n",
    "print('Missing values for each column: ')\n",
    "print(model_df.isna().sum())\n",
    "model_df.head()"
   ]
  },
  {
   "cell_type": "code",
   "execution_count": 44,
   "id": "279a8dec-2eb5-4581-a1a9-0e02792c366b",
   "metadata": {},
   "outputs": [
    {
     "name": "stdout",
     "output_type": "stream",
     "text": [
      "Number of distinct IDs without a target value: 1152\n",
      "Number of distinct IDs with a target value: 1348\n"
     ]
    }
   ],
   "source": [
    "# Find distinct IDs without a target value\n",
    "ids_without_target = model_df[model_df['target'].isnull()]['ID'].unique()\n",
    "print(\"Number of distinct IDs without a target value:\", len(ids_without_target))\n",
    "\n",
    "# Find distinct IDs with a target value\n",
    "ids_with_target = model_df[~model_df['target'].isnull()]['ID'].unique()\n",
    "print(\"Number of distinct IDs with a target value:\",  len(ids_with_target))"
   ]
  },
  {
   "cell_type": "code",
   "execution_count": 45,
   "id": "0833f311-c9de-4a30-bbb2-9a80e244b94e",
   "metadata": {
    "tags": []
   },
   "outputs": [
    {
     "name": "stdout",
     "output_type": "stream",
     "text": [
      "Number of unique IDs:  1348\n",
      "Shape of the modeling dataframe:  (1348, 16)\n"
     ]
    },
    {
     "data": {
      "text/html": [
       "<div>\n",
       "<style scoped>\n",
       "    .dataframe tbody tr th:only-of-type {\n",
       "        vertical-align: middle;\n",
       "    }\n",
       "\n",
       "    .dataframe tbody tr th {\n",
       "        vertical-align: top;\n",
       "    }\n",
       "\n",
       "    .dataframe thead th {\n",
       "        text-align: right;\n",
       "    }\n",
       "</style>\n",
       "<table border=\"1\" class=\"dataframe\">\n",
       "  <thead>\n",
       "    <tr style=\"text-align: right;\">\n",
       "      <th></th>\n",
       "      <th>target</th>\n",
       "      <th>loan_amt</th>\n",
       "      <th>net_amount</th>\n",
       "      <th>sum_credits</th>\n",
       "      <th>sum_payments</th>\n",
       "      <th>count_trans</th>\n",
       "      <th>count_trans_negative</th>\n",
       "      <th>count_trans_positive</th>\n",
       "      <th>latest_balance_log</th>\n",
       "      <th>gender</th>\n",
       "      <th>age</th>\n",
       "      <th>income</th>\n",
       "      <th>recent_bscore</th>\n",
       "      <th>avg_bscore</th>\n",
       "    </tr>\n",
       "  </thead>\n",
       "  <tbody>\n",
       "    <tr>\n",
       "      <th>0</th>\n",
       "      <td>0</td>\n",
       "      <td>16021.0</td>\n",
       "      <td>5495.0</td>\n",
       "      <td>9942.0</td>\n",
       "      <td>-4447.0</td>\n",
       "      <td>6.0</td>\n",
       "      <td>5.0</td>\n",
       "      <td>1.0</td>\n",
       "      <td>9.098850</td>\n",
       "      <td>0</td>\n",
       "      <td>30.0</td>\n",
       "      <td>9942.0</td>\n",
       "      <td>0.25</td>\n",
       "      <td>0.13</td>\n",
       "    </tr>\n",
       "    <tr>\n",
       "      <th>1</th>\n",
       "      <td>1</td>\n",
       "      <td>14603.0</td>\n",
       "      <td>NaN</td>\n",
       "      <td>NaN</td>\n",
       "      <td>NaN</td>\n",
       "      <td>NaN</td>\n",
       "      <td>NaN</td>\n",
       "      <td>NaN</td>\n",
       "      <td>NaN</td>\n",
       "      <td>0</td>\n",
       "      <td>36.0</td>\n",
       "      <td>10385.0</td>\n",
       "      <td>NaN</td>\n",
       "      <td>NaN</td>\n",
       "    </tr>\n",
       "    <tr>\n",
       "      <th>2</th>\n",
       "      <td>0</td>\n",
       "      <td>18517.0</td>\n",
       "      <td>1455.0</td>\n",
       "      <td>32427.0</td>\n",
       "      <td>-30972.0</td>\n",
       "      <td>29.0</td>\n",
       "      <td>26.0</td>\n",
       "      <td>3.0</td>\n",
       "      <td>8.990068</td>\n",
       "      <td>0</td>\n",
       "      <td>44.0</td>\n",
       "      <td>10809.0</td>\n",
       "      <td>0.09</td>\n",
       "      <td>0.21</td>\n",
       "    </tr>\n",
       "    <tr>\n",
       "      <th>3</th>\n",
       "      <td>0</td>\n",
       "      <td>17734.0</td>\n",
       "      <td>NaN</td>\n",
       "      <td>NaN</td>\n",
       "      <td>NaN</td>\n",
       "      <td>NaN</td>\n",
       "      <td>NaN</td>\n",
       "      <td>NaN</td>\n",
       "      <td>NaN</td>\n",
       "      <td>0</td>\n",
       "      <td>27.0</td>\n",
       "      <td>10068.0</td>\n",
       "      <td>NaN</td>\n",
       "      <td>NaN</td>\n",
       "    </tr>\n",
       "    <tr>\n",
       "      <th>4</th>\n",
       "      <td>0</td>\n",
       "      <td>25138.0</td>\n",
       "      <td>1118.0</td>\n",
       "      <td>23918.0</td>\n",
       "      <td>-22800.0</td>\n",
       "      <td>17.0</td>\n",
       "      <td>15.0</td>\n",
       "      <td>2.0</td>\n",
       "      <td>7.920447</td>\n",
       "      <td>0</td>\n",
       "      <td>46.0</td>\n",
       "      <td>11959.0</td>\n",
       "      <td>0.19</td>\n",
       "      <td>0.29</td>\n",
       "    </tr>\n",
       "  </tbody>\n",
       "</table>\n",
       "</div>"
      ],
      "text/plain": [
       "   target  loan_amt  net_amount  sum_credits  sum_payments  count_trans  \\\n",
       "0       0   16021.0      5495.0       9942.0       -4447.0          6.0   \n",
       "1       1   14603.0         NaN          NaN           NaN          NaN   \n",
       "2       0   18517.0      1455.0      32427.0      -30972.0         29.0   \n",
       "3       0   17734.0         NaN          NaN           NaN          NaN   \n",
       "4       0   25138.0      1118.0      23918.0      -22800.0         17.0   \n",
       "\n",
       "   count_trans_negative  count_trans_positive  latest_balance_log  gender  \\\n",
       "0                   5.0                   1.0            9.098850       0   \n",
       "1                   NaN                   NaN                 NaN       0   \n",
       "2                  26.0                   3.0            8.990068       0   \n",
       "3                   NaN                   NaN                 NaN       0   \n",
       "4                  15.0                   2.0            7.920447       0   \n",
       "\n",
       "    age   income  recent_bscore  avg_bscore  \n",
       "0  30.0   9942.0           0.25        0.13  \n",
       "1  36.0  10385.0            NaN         NaN  \n",
       "2  44.0  10809.0           0.09        0.21  \n",
       "3  27.0  10068.0            NaN         NaN  \n",
       "4  46.0  11959.0           0.19        0.29  "
      ]
     },
     "execution_count": 45,
     "metadata": {},
     "output_type": "execute_result"
    }
   ],
   "source": [
    "# Filter out IDs without target \n",
    "model_df = model_df.dropna(subset=['target'])\n",
    "model_df['target'] = model_df['target'].astype(int)\n",
    "model_df.columns = map(str.lower, model_df.columns)\n",
    "\n",
    "print('Number of unique IDs: ', model_df.id.nunique())\n",
    "print('Shape of the modeling dataframe: ', model_df.shape)\n",
    "model_df = model_df.drop(['id', 'max_date'], axis=1) #ID not needed for the next steps\n",
    "model_df.head()"
   ]
  },
  {
   "cell_type": "code",
   "execution_count": 46,
   "id": "b89bb35a-5e6e-4d3c-9d6f-d04b470d2663",
   "metadata": {},
   "outputs": [
    {
     "name": "stdout",
     "output_type": "stream",
     "text": [
      "Percentage of missing values for each column: target                   0.00\n",
      "loan_amt                 0.00\n",
      "net_amount              23.00\n",
      "sum_credits             26.85\n",
      "sum_payments            23.07\n",
      "count_trans             23.00\n",
      "count_trans_negative    23.07\n",
      "count_trans_positive    26.85\n",
      "latest_balance_log      23.00\n",
      "gender                   0.00\n",
      "age                      0.00\n",
      "income                   0.00\n",
      "recent_bscore           23.00\n",
      "avg_bscore              23.00\n",
      "dtype: float64\n"
     ]
    }
   ],
   "source": [
    "# Calculate the percentage of missing values for each column\n",
    "percentage_missing_values = round(((model_df.isna().sum() / len(model_df)) * 100), 2)\n",
    "\n",
    "# Print the percentage of missing values for each column\n",
    "print('Percentage of missing values for each column:', percentage_missing_values)"
   ]
  },
  {
   "cell_type": "markdown",
   "id": "237ca2ff-d5aa-4083-bf4c-91739d7b8770",
   "metadata": {},
   "source": [
    "Given the distributions of all the features containing the missing values, I will impute missing values with their relative Median values. The mean can be affected from the presence of outliers. Median is more robust in this case. As future direction, consider to treat these variables differently (e.g., using binning)"
   ]
  },
  {
   "cell_type": "code",
   "execution_count": 47,
   "id": "0246dfd7-db99-4369-83fb-763b0d73c5a1",
   "metadata": {},
   "outputs": [
    {
     "name": "stdout",
     "output_type": "stream",
     "text": [
      "Percentage of missing values for each column: target                  0.0\n",
      "loan_amt                0.0\n",
      "net_amount              0.0\n",
      "sum_credits             0.0\n",
      "sum_payments            0.0\n",
      "count_trans             0.0\n",
      "count_trans_negative    0.0\n",
      "count_trans_positive    0.0\n",
      "latest_balance_log      0.0\n",
      "gender                  0.0\n",
      "age                     0.0\n",
      "income                  0.0\n",
      "recent_bscore           0.0\n",
      "avg_bscore              0.0\n",
      "dtype: float64\n"
     ]
    }
   ],
   "source": [
    "# Impute the median to the columns containing missing values\n",
    "model_df.fillna(model_df.median(), inplace=True)\n",
    "\n",
    "# Calculate the percentage of missing values for each column\n",
    "percentage_missing_values = round(((model_df.isna().sum() / len(model_df)) * 100), 2)\n",
    "# Print the percentage of missing values for each column\n",
    "print('Percentage of missing values for each column:', percentage_missing_values)"
   ]
  },
  {
   "cell_type": "code",
   "execution_count": 48,
   "id": "b0215dd9-ea40-4b18-846e-5f3185bc1800",
   "metadata": {},
   "outputs": [
    {
     "data": {
      "image/png": "[encoded data removed]",
      "text/plain": [
       "<Figure size 432x288 with 1 Axes>"
      ]
     },
     "metadata": {
      "needs_background": "light"
     },
     "output_type": "display_data"
    },
    {
     "data": {
      "image/png": "[encoded data removed]",
      "text/plain": [
       "<Figure size 432x288 with 1 Axes>"
      ]
     },
     "metadata": {
      "needs_background": "light"
     },
     "output_type": "display_data"
    },
    {
     "data": {
      "image/png": "[encoded data removed]",
      "text/plain": [
       "<Figure size 432x288 with 1 Axes>"
      ]
     },
     "metadata": {
      "needs_background": "light"
     },
     "output_type": "display_data"
    },
    {
     "data": {
      "image/png": "[encoded data removed]",
      "text/plain": [
       "<Figure size 432x288 with 1 Axes>"
      ]
     },
     "metadata": {
      "needs_background": "light"
     },
     "output_type": "display_data"
    },
    {
     "data": {
      "image/png": "[encoded data removed]",
      "text/plain": [
       "<Figure size 432x288 with 1 Axes>"
      ]
     },
     "metadata": {
      "needs_background": "light"
     },
     "output_type": "display_data"
    },
    {
     "data": {
      "image/png": "[encoded data removed]",
      "text/plain": [
       "<Figure size 432x288 with 1 Axes>"
      ]
     },
     "metadata": {
      "needs_background": "light"
     },
     "output_type": "display_data"
    },
    {
     "data": {
      "image/png": "[encoded data removed]",
      "text/plain": [
       "<Figure size 432x288 with 1 Axes>"
      ]
     },
     "metadata": {
      "needs_background": "light"
     },
     "output_type": "display_data"
    },
    {
     "data": {
      "image/png": "[encoded data removed]",
      "text/plain": [
       "<Figure size 432x288 with 1 Axes>"
      ]
     },
     "metadata": {
      "needs_background": "light"
     },
     "output_type": "display_data"
    },
    {
     "data": {
      "image/png": "[encoded data removed]",
      "text/plain": [
       "<Figure size 432x288 with 1 Axes>"
      ]
     },
     "metadata": {
      "needs_background": "light"
     },
     "output_type": "display_data"
    },
    {
     "data": {
      "image/png": "[encoded data removed]",
      "text/plain": [
       "<Figure size 432x288 with 1 Axes>"
      ]
     },
     "metadata": {
      "needs_background": "light"
     },
     "output_type": "display_data"
    },
    {
     "data": {
      "image/png": "[encoded data removed]",
      "text/plain": [
       "<Figure size 432x288 with 1 Axes>"
      ]
     },
     "metadata": {
      "needs_background": "light"
     },
     "output_type": "display_data"
    },
    {
     "data": {
      "image/png": "[encoded data removed]",
      "text/plain": [
       "<Figure size 432x288 with 1 Axes>"
      ]
     },
     "metadata": {
      "needs_background": "light"
     },
     "output_type": "display_data"
    },
    {
     "data": {
      "image/png": "[encoded data removed]",
      "text/plain": [
       "<Figure size 432x288 with 1 Axes>"
      ]
     },
     "metadata": {
      "needs_background": "light"
     },
     "output_type": "display_data"
    }
   ],
   "source": [
    "# Visualize features according to the target\n",
    "for x in model_df.columns:\n",
    "    if x != 'target':  # Exclude 'target' column\n",
    "        sns.violinplot(data=model_df, x='target', y=x, hue='target', split=True)\n",
    "        plt.title('Distribution of ' + x)\n",
    "        plt.xlabel('Target')\n",
    "        plt.ylabel(x)\n",
    "        plt.legend(title='Target')\n",
    "        plt.show()"
   ]
  },
  {
   "cell_type": "code",
   "execution_count": 49,
   "id": "91c34dcf-8c8f-43f3-ac73-917810478549",
   "metadata": {},
   "outputs": [
    {
     "data": {
      "image/png": "[encoded data removed]",
      "text/plain": [
       "<Figure size 792x576 with 2 Axes>"
      ]
     },
     "metadata": {
      "needs_background": "light"
     },
     "output_type": "display_data"
    }
   ],
   "source": [
    "#Check Correlation among features\n",
    "# Set the size of the figure\n",
    "plt.figure(figsize=(11, 8))\n",
    "corr = model_df.corr()\n",
    "sns.heatmap(corr, annot=True, cmap='coolwarm', fmt=\".2f\")\n",
    "plt.title('Correlation Matrix')\n",
    "plt.show() "
   ]
  },
  {
   "cell_type": "markdown",
   "id": "97d1ad64-efe6-421b-bdc7-ae5b27646e51",
   "metadata": {},
   "source": [
    "It is possible to detect some small differences in the distribution of the variables according to the target, in particular for the net amount where Pearson coeff=0.28. Ideally, Highly correlated features(e.g., count of transactions, count of negative transactions and sum of payments) should be removed to avoid the risk of multicollinearity of the features. Considering the size of the dataframe and the relaively low number of features extracted, I will accept these preliminary results as they are. To mitigate the risk described, I will use XXX"
   ]
  },
  {
   "cell_type": "markdown",
   "id": "7e76e5fe-6974-4f65-b827-d0e4d9d06056",
   "metadata": {},
   "source": [
    "# Question 5 and 6: \n",
    "- Use the available datasets to create train and validation datasets for the task identifying which clients should we approach with a loan offer.\n",
    "- Train and evaluate a machine learning model for the aforementioned task. Explain your approach as much as possible."
   ]
  },
  {
   "cell_type": "markdown",
   "id": "337dad56-3e69-4e88-82ca-f9c0148ec0d2",
   "metadata": {},
   "source": [
    "Given the small size of the data at my disposal, I can not use a balanced approach, sampling the dataset with 50% of the class 0 and 50% of the class 1. I will just drop a small percentage in order to get a negative class of 2/3 of the sample"
   ]
  },
  {
   "cell_type": "code",
   "execution_count": 50,
   "id": "f300b7b4-bc00-450e-9ae2-ad96ecffd8d1",
   "metadata": {},
   "outputs": [
    {
     "name": "stdout",
     "output_type": "stream",
     "text": [
      "Target ratio: \n"
     ]
    },
    {
     "data": {
      "text/plain": [
       "0    1052\n",
       "1     296\n",
       "Name: target, dtype: int64"
      ]
     },
     "execution_count": 50,
     "metadata": {},
     "output_type": "execute_result"
    }
   ],
   "source": [
    "print('Target ratio: ')\n",
    "model_df.target.value_counts()"
   ]
  },
  {
   "cell_type": "code",
   "execution_count": 51,
   "id": "c3db6fa6-6e8b-4fb6-bc3e-0cda579ffa70",
   "metadata": {},
   "outputs": [
    {
     "name": "stdout",
     "output_type": "stream",
     "text": [
      "(927, 14)\n",
      "0    631\n",
      "1    296\n",
      "Name: target, dtype: int64\n"
     ]
    }
   ],
   "source": [
    "# Reduce sample in the negative class \n",
    "class_counts = model_df['target'].value_counts()\n",
    "sample_size_class_0 = int(class_counts[0] * 0.6)  # Sample 60% of class 0\n",
    "\n",
    "# Sample from class 0\n",
    "class_0_sample = model_df[model_df['target'] == 0].sample(n=sample_size_class_0, random_state=42)\n",
    "\n",
    "# Filter class 1 instances\n",
    "class_1_instances = model_df[model_df['target'] == 1]\n",
    "\n",
    "# Concatenate the sampled class 0 instances and all class 1 instances\n",
    "model_df = pd.concat([class_0_sample, class_1_instances])\n",
    "\n",
    "# Shuffle the DataFrame to mix class 0 and class 1 instances\n",
    "model_df = model_df.sample(frac=1, random_state=42).reset_index(drop=True)\n",
    "print(model_df.shape)\n",
    "print(model_df['target'].value_counts()) "
   ]
  },
  {
   "cell_type": "code",
   "execution_count": 52,
   "id": "c5904551-952a-402a-8b21-ce6260a0cace",
   "metadata": {},
   "outputs": [
    {
     "name": "stdout",
     "output_type": "stream",
     "text": [
      "(741, 13) (186, 13) (741,) (186,)\n"
     ]
    },
    {
     "data": {
      "text/html": [
       "<div>\n",
       "<style scoped>\n",
       "    .dataframe tbody tr th:only-of-type {\n",
       "        vertical-align: middle;\n",
       "    }\n",
       "\n",
       "    .dataframe tbody tr th {\n",
       "        vertical-align: top;\n",
       "    }\n",
       "\n",
       "    .dataframe thead th {\n",
       "        text-align: right;\n",
       "    }\n",
       "</style>\n",
       "<table border=\"1\" class=\"dataframe\">\n",
       "  <thead>\n",
       "    <tr style=\"text-align: right;\">\n",
       "      <th></th>\n",
       "      <th>loan_amt</th>\n",
       "      <th>net_amount</th>\n",
       "      <th>sum_credits</th>\n",
       "      <th>sum_payments</th>\n",
       "      <th>count_trans</th>\n",
       "      <th>count_trans_negative</th>\n",
       "      <th>count_trans_positive</th>\n",
       "      <th>latest_balance_log</th>\n",
       "      <th>gender</th>\n",
       "      <th>age</th>\n",
       "      <th>income</th>\n",
       "      <th>recent_bscore</th>\n",
       "      <th>avg_bscore</th>\n",
       "    </tr>\n",
       "  </thead>\n",
       "  <tbody>\n",
       "    <tr>\n",
       "      <th>491</th>\n",
       "      <td>19187.0</td>\n",
       "      <td>2110.5</td>\n",
       "      <td>26880.0</td>\n",
       "      <td>-23854.0</td>\n",
       "      <td>26.0</td>\n",
       "      <td>23.0</td>\n",
       "      <td>2.0</td>\n",
       "      <td>8.717273</td>\n",
       "      <td>1</td>\n",
       "      <td>26.0</td>\n",
       "      <td>10002.903529</td>\n",
       "      <td>0.15</td>\n",
       "      <td>0.23</td>\n",
       "    </tr>\n",
       "    <tr>\n",
       "      <th>839</th>\n",
       "      <td>13499.0</td>\n",
       "      <td>2081.0</td>\n",
       "      <td>11233.0</td>\n",
       "      <td>-9152.0</td>\n",
       "      <td>9.0</td>\n",
       "      <td>8.0</td>\n",
       "      <td>1.0</td>\n",
       "      <td>9.318298</td>\n",
       "      <td>1</td>\n",
       "      <td>24.0</td>\n",
       "      <td>10002.903529</td>\n",
       "      <td>0.10</td>\n",
       "      <td>0.18</td>\n",
       "    </tr>\n",
       "    <tr>\n",
       "      <th>163</th>\n",
       "      <td>21348.0</td>\n",
       "      <td>4692.0</td>\n",
       "      <td>10863.0</td>\n",
       "      <td>-6171.0</td>\n",
       "      <td>7.0</td>\n",
       "      <td>6.0</td>\n",
       "      <td>1.0</td>\n",
       "      <td>9.027259</td>\n",
       "      <td>0</td>\n",
       "      <td>31.0</td>\n",
       "      <td>10002.903529</td>\n",
       "      <td>0.09</td>\n",
       "      <td>0.25</td>\n",
       "    </tr>\n",
       "    <tr>\n",
       "      <th>864</th>\n",
       "      <td>18645.0</td>\n",
       "      <td>-5769.0</td>\n",
       "      <td>20738.0</td>\n",
       "      <td>-26507.0</td>\n",
       "      <td>26.0</td>\n",
       "      <td>24.0</td>\n",
       "      <td>2.0</td>\n",
       "      <td>7.388328</td>\n",
       "      <td>1</td>\n",
       "      <td>35.0</td>\n",
       "      <td>10369.000000</td>\n",
       "      <td>0.07</td>\n",
       "      <td>0.23</td>\n",
       "    </tr>\n",
       "    <tr>\n",
       "      <th>776</th>\n",
       "      <td>18949.0</td>\n",
       "      <td>16707.0</td>\n",
       "      <td>47350.0</td>\n",
       "      <td>-30643.0</td>\n",
       "      <td>37.0</td>\n",
       "      <td>33.0</td>\n",
       "      <td>4.0</td>\n",
       "      <td>8.453401</td>\n",
       "      <td>1</td>\n",
       "      <td>26.0</td>\n",
       "      <td>10002.903529</td>\n",
       "      <td>0.17</td>\n",
       "      <td>0.20</td>\n",
       "    </tr>\n",
       "  </tbody>\n",
       "</table>\n",
       "</div>"
      ],
      "text/plain": [
       "     loan_amt  net_amount  sum_credits  sum_payments  count_trans  \\\n",
       "491   19187.0      2110.5      26880.0      -23854.0         26.0   \n",
       "839   13499.0      2081.0      11233.0       -9152.0          9.0   \n",
       "163   21348.0      4692.0      10863.0       -6171.0          7.0   \n",
       "864   18645.0     -5769.0      20738.0      -26507.0         26.0   \n",
       "776   18949.0     16707.0      47350.0      -30643.0         37.0   \n",
       "\n",
       "     count_trans_negative  count_trans_positive  latest_balance_log  gender  \\\n",
       "491                  23.0                   2.0            8.717273       1   \n",
       "839                   8.0                   1.0            9.318298       1   \n",
       "163                   6.0                   1.0            9.027259       0   \n",
       "864                  24.0                   2.0            7.388328       1   \n",
       "776                  33.0                   4.0            8.453401       1   \n",
       "\n",
       "      age        income  recent_bscore  avg_bscore  \n",
       "491  26.0  10002.903529           0.15        0.23  \n",
       "839  24.0  10002.903529           0.10        0.18  \n",
       "163  31.0  10002.903529           0.09        0.25  \n",
       "864  35.0  10369.000000           0.07        0.23  \n",
       "776  26.0  10002.903529           0.17        0.20  "
      ]
     },
     "execution_count": 52,
     "metadata": {},
     "output_type": "execute_result"
    }
   ],
   "source": [
    "# Split train and test (80% and 20%)\n",
    "X_train, X_test, y_train, y_test = train_test_split(model_df.drop(\n",
    "    columns=['target']), model_df['target'], test_size=0.2, stratify=model_df['target'], random_state=42\n",
    ") \n",
    "print(X_train.shape, X_test.shape, y_train.shape, y_test.shape)\n",
    "X_train.head()"
   ]
  },
  {
   "cell_type": "markdown",
   "id": "68f7761f-4b60-4a77-ab52-58ae23a5e17a",
   "metadata": {},
   "source": [
    "Before to proceed with the modeling part, some features need to be pre processed before to be used as input for the model (i.e., standardize the values also called z score normalization)"
   ]
  },
  {
   "cell_type": "code",
   "execution_count": 53,
   "id": "da162be0-c523-4e1a-bfc6-413d4f8ea20c",
   "metadata": {},
   "outputs": [
    {
     "data": {
      "text/html": [
       "<div>\n",
       "<style scoped>\n",
       "    .dataframe tbody tr th:only-of-type {\n",
       "        vertical-align: middle;\n",
       "    }\n",
       "\n",
       "    .dataframe tbody tr th {\n",
       "        vertical-align: top;\n",
       "    }\n",
       "\n",
       "    .dataframe thead th {\n",
       "        text-align: right;\n",
       "    }\n",
       "</style>\n",
       "<table border=\"1\" class=\"dataframe\">\n",
       "  <thead>\n",
       "    <tr style=\"text-align: right;\">\n",
       "      <th></th>\n",
       "      <th>loan_amt</th>\n",
       "      <th>net_amount</th>\n",
       "      <th>sum_credits</th>\n",
       "      <th>sum_payments</th>\n",
       "      <th>count_trans</th>\n",
       "      <th>count_trans_negative</th>\n",
       "      <th>count_trans_positive</th>\n",
       "      <th>latest_balance_log</th>\n",
       "      <th>gender</th>\n",
       "      <th>age</th>\n",
       "      <th>income</th>\n",
       "      <th>recent_bscore</th>\n",
       "      <th>avg_bscore</th>\n",
       "    </tr>\n",
       "  </thead>\n",
       "  <tbody>\n",
       "    <tr>\n",
       "      <th>491</th>\n",
       "      <td>-0.247702</td>\n",
       "      <td>-0.171633</td>\n",
       "      <td>-0.017541</td>\n",
       "      <td>-0.202627</td>\n",
       "      <td>0.198705</td>\n",
       "      <td>0.158312</td>\n",
       "      <td>2.0</td>\n",
       "      <td>0.091558</td>\n",
       "      <td>1</td>\n",
       "      <td>-1.697736</td>\n",
       "      <td>-0.093892</td>\n",
       "      <td>-0.259534</td>\n",
       "      <td>-0.060833</td>\n",
       "    </tr>\n",
       "    <tr>\n",
       "      <th>839</th>\n",
       "      <td>-1.749592</td>\n",
       "      <td>-0.174671</td>\n",
       "      <td>-1.581060</td>\n",
       "      <td>1.429679</td>\n",
       "      <td>-1.577797</td>\n",
       "      <td>-1.545114</td>\n",
       "      <td>1.0</td>\n",
       "      <td>0.660813</td>\n",
       "      <td>1</td>\n",
       "      <td>-2.109662</td>\n",
       "      <td>-0.093892</td>\n",
       "      <td>-0.478622</td>\n",
       "      <td>-0.690402</td>\n",
       "    </tr>\n",
       "    <tr>\n",
       "      <th>163</th>\n",
       "      <td>0.322900</td>\n",
       "      <td>0.094178</td>\n",
       "      <td>-1.618032</td>\n",
       "      <td>1.760648</td>\n",
       "      <td>-1.786798</td>\n",
       "      <td>-1.772238</td>\n",
       "      <td>1.0</td>\n",
       "      <td>0.385158</td>\n",
       "      <td>0</td>\n",
       "      <td>-0.667921</td>\n",
       "      <td>-0.093892</td>\n",
       "      <td>-0.522439</td>\n",
       "      <td>0.190995</td>\n",
       "    </tr>\n",
       "    <tr>\n",
       "      <th>864</th>\n",
       "      <td>-0.390815</td>\n",
       "      <td>-0.982968</td>\n",
       "      <td>-0.631278</td>\n",
       "      <td>-0.497179</td>\n",
       "      <td>0.198705</td>\n",
       "      <td>0.271874</td>\n",
       "      <td>2.0</td>\n",
       "      <td>-1.167139</td>\n",
       "      <td>1</td>\n",
       "      <td>0.155932</td>\n",
       "      <td>0.293693</td>\n",
       "      <td>-0.610074</td>\n",
       "      <td>-0.060833</td>\n",
       "    </tr>\n",
       "    <tr>\n",
       "      <th>776</th>\n",
       "      <td>-0.310545</td>\n",
       "      <td>1.331335</td>\n",
       "      <td>2.027914</td>\n",
       "      <td>-0.956383</td>\n",
       "      <td>1.348207</td>\n",
       "      <td>1.293930</td>\n",
       "      <td>4.0</td>\n",
       "      <td>-0.158365</td>\n",
       "      <td>1</td>\n",
       "      <td>-1.697736</td>\n",
       "      <td>-0.093892</td>\n",
       "      <td>-0.171899</td>\n",
       "      <td>-0.438574</td>\n",
       "    </tr>\n",
       "  </tbody>\n",
       "</table>\n",
       "</div>"
      ],
      "text/plain": [
       "     loan_amt  net_amount  sum_credits  sum_payments  count_trans  \\\n",
       "491 -0.247702   -0.171633    -0.017541     -0.202627     0.198705   \n",
       "839 -1.749592   -0.174671    -1.581060      1.429679    -1.577797   \n",
       "163  0.322900    0.094178    -1.618032      1.760648    -1.786798   \n",
       "864 -0.390815   -0.982968    -0.631278     -0.497179     0.198705   \n",
       "776 -0.310545    1.331335     2.027914     -0.956383     1.348207   \n",
       "\n",
       "     count_trans_negative  count_trans_positive  latest_balance_log  gender  \\\n",
       "491              0.158312                   2.0            0.091558       1   \n",
       "839             -1.545114                   1.0            0.660813       1   \n",
       "163             -1.772238                   1.0            0.385158       0   \n",
       "864              0.271874                   2.0           -1.167139       1   \n",
       "776              1.293930                   4.0           -0.158365       1   \n",
       "\n",
       "          age    income  recent_bscore  avg_bscore  \n",
       "491 -1.697736 -0.093892      -0.259534   -0.060833  \n",
       "839 -2.109662 -0.093892      -0.478622   -0.690402  \n",
       "163 -0.667921 -0.093892      -0.522439    0.190995  \n",
       "864  0.155932  0.293693      -0.610074   -0.060833  \n",
       "776 -1.697736 -0.093892      -0.171899   -0.438574  "
      ]
     },
     "execution_count": 53,
     "metadata": {},
     "output_type": "execute_result"
    }
   ],
   "source": [
    "# Standardize features according to the train values\n",
    "cols_to_std = ['loan_amt', 'net_amount', 'sum_credits', 'sum_payments', 'count_trans', 'count_trans_negative', 'age', 'income', 'recent_bscore', 'avg_bscore', 'latest_balance_log']\n",
    "train_mean = X_train.loc[:, cols_to_std].mean(skipna=True)\n",
    "train_std = X_train.loc[:, cols_to_std].std(skipna=True)\n",
    "\n",
    "# Scale train and test features using formula below:\n",
    "X_train.loc[:, cols_to_std] = (X_train.loc[:, cols_to_std] - train_mean) / train_std\n",
    "X_test.loc[:, cols_to_std] = (X_test.loc[:, cols_to_std] - train_mean) / train_std\n",
    "X_train.head()"
   ]
  },
  {
   "cell_type": "code",
   "execution_count": 54,
   "id": "faecca21-d979-4188-9665-38f1d11ecd0c",
   "metadata": {},
   "outputs": [
    {
     "name": "stdout",
     "output_type": "stream",
     "text": [
      "Cross-Validation AUC Scores: [0.86528029 0.8662598  0.85631404]\n",
      "              precision    recall  f1-score   support\n",
      "\n",
      "           0       0.91      0.79      0.84       127\n",
      "           1       0.64      0.83      0.73        59\n",
      "\n",
      "    accuracy                           0.80       186\n",
      "   macro avg       0.78      0.81      0.78       186\n",
      "weighted avg       0.83      0.80      0.81       186\n",
      "\n"
     ]
    },
    {
     "name": "stderr",
     "output_type": "stream",
     "text": [
      "/Library/Frameworks/Python.framework/Versions/3.7/lib/python3.7/site-packages/sklearn/utils/deprecation.py:87: FutureWarning: Function plot_confusion_matrix is deprecated; Function `plot_confusion_matrix` is deprecated in 1.0 and will be removed in 1.2. Use one of the class methods: ConfusionMatrixDisplay.from_predictions or ConfusionMatrixDisplay.from_estimator.\n",
      "  warnings.warn(msg, category=FutureWarning)\n"
     ]
    },
    {
     "data": {
      "text/plain": [
       "array([[100,  27],\n",
       "       [ 10,  49]])"
      ]
     },
     "execution_count": 54,
     "metadata": {},
     "output_type": "execute_result"
    },
    {
     "data": {
      "image/png": "[encoded data removed]",
      "text/plain": [
       "<Figure size 720x432 with 2 Axes>"
      ]
     },
     "metadata": {
      "needs_background": "light"
     },
     "output_type": "display_data"
    }
   ],
   "source": [
    "# Modeling LogReg\n",
    "logreg = LogisticRegression(solver='lbfgs', penalty='l2', C=1, class_weight = 'balanced', max_iter=1000)\n",
    "\n",
    "# Perform cross-validation\n",
    "cv_scores = cross_val_score(logreg, X_train, y_train, cv=3, scoring=\"roc_auc\")  \n",
    "\n",
    "# Fit the model using the entire training data\n",
    "logreg.fit(X_train, y_train)\n",
    "\n",
    "# Make predictions on the test data\n",
    "y_pred = logreg.predict(X_test) \n",
    "\n",
    "# Print cross-validation scores\n",
    "print(\"Cross-Validation AUC Scores:\", cv_scores)\n",
    "\n",
    "# Print classification report\n",
    "print(metrics.classification_report(y_test, y_pred))\n",
    "\n",
    "# Plot confusion matrix\n",
    "fig, ax = plt.subplots(figsize=(10, 6))\n",
    "ax.set_title('Confusion Matrix')\n",
    "disp = metrics.plot_confusion_matrix(logreg, X_test, y_test, ax=ax)\n",
    "disp.confusion_matrix"
   ]
  },
  {
   "cell_type": "markdown",
   "id": "0dde145a-884c-412e-82fa-936e0d8bb6b3",
   "metadata": {},
   "source": [
    "The confusion matrix shows the good results obtained in the model. The model is able to predict correctly the respective classes as shown in True Positive and True Negative. Moreover, the number of False Positive is relatively low. Translated into the business context, it means that the model is able to discriminate well the people that should not receive any loan, decreasing the risks for the bank that grants the loan. At the same time, it is able to recognize people eligible for loans, without inflating the number of False Positives. The threshold of the model should be adapted to the business context, taking into account the risks of default on the loans."
   ]
  },
  {
   "cell_type": "code",
   "execution_count": 55,
   "id": "933fe30a-c905-4116-a69a-92fe711dfae4",
   "metadata": {},
   "outputs": [
    {
     "data": {
      "image/png": "[encoded data removed]",
      "text/plain": [
       "<Figure size 576x432 with 1 Axes>"
      ]
     },
     "metadata": {},
     "output_type": "display_data"
    }
   ],
   "source": [
    "# Prediction\n",
    "Y_pred = logreg.predict(X_test)\n",
    "Y_pred_train = logreg.predict(X_train)\n",
    "\n",
    "# Get predicted probabilities for the positive class (class 1)\n",
    "Y_pred_probs = logreg.predict_proba(X_test)[:, 1]\n",
    "Y_pred_probs_train = logreg.predict_proba(X_train)[:, 1]\n",
    "\n",
    "# Set the style of seaborn for better visualization\n",
    "sns.set(style=\"whitegrid\")\n",
    "# Plot histogram\n",
    "plt.figure(figsize=(8, 6))\n",
    "sns.histplot(Y_pred_probs, bins=10, kde=True, color='blue', stat='density')\n",
    "plt.title('Distribution of Predicted Probabilities')\n",
    "plt.xlabel('Predicted Probability (Positive Class)')\n",
    "plt.ylabel('Density')\n",
    "plt.show()"
   ]
  },
  {
   "cell_type": "markdown",
   "id": "d8693255-d101-4c17-9e5c-314b3a7a4f5b",
   "metadata": {},
   "source": [
    "As expected, the distribution of the probabilities confirm a high number of lower probabilities and a low number of high probabilities.\n",
    "The intermediate deciles (4th, 5th, 6th) have a lower density while the deciles at the bottom and at the top of the rank are more densed, suggesting a good confidence of the model to predict both classes. "
   ]
  },
  {
   "cell_type": "code",
   "execution_count": 56,
   "id": "35ec8756-6a7c-4017-9a1c-508f8f704f26",
   "metadata": {},
   "outputs": [
    {
     "data": {
      "image/png": "[encoded data removed]",
      "text/plain": [
       "<Figure size 864x432 with 2 Axes>"
      ]
     },
     "metadata": {},
     "output_type": "display_data"
    }
   ],
   "source": [
    "# Calculate ROC curve and AUC for TRAIN\n",
    "fpr_train, tpr_train, thresholds_train = roc_curve(y_train, Y_pred_probs_train)\n",
    "roc_auc_train = auc(fpr_train, tpr_train)\n",
    "\n",
    "# Calculate ROC curve and AUC for TEST\n",
    "fpr_test, tpr_test, thresholds_test = roc_curve(y_test, Y_pred_probs)\n",
    "roc_auc_test = auc(fpr_test, tpr_test)\n",
    "\n",
    "# Plot ROC curves in subplots\n",
    "plt.figure(figsize=(12, 6))\n",
    "\n",
    "# Subplot 1 for TRAIN ROC curve\n",
    "plt.subplot(1, 2, 1)\n",
    "plt.plot(fpr_train, tpr_train, color='darkorange', lw=2, label='ROC curve (AUC = {:.2f})'.format(roc_auc_train))\n",
    "plt.plot([0, 1], [0, 1], color='navy', lw=2, linestyle='--')\n",
    "plt.xlim([0.0, 1.0])\n",
    "plt.ylim([0.0, 1.05])\n",
    "plt.xlabel('False Positive Rate')\n",
    "plt.ylabel('True Positive Rate')\n",
    "plt.title('Receiver Operating Characteristic (ROC) Curve TRAIN')\n",
    "plt.legend(loc='lower right')\n",
    "\n",
    "# Subplot 2 for TEST ROC curve\n",
    "plt.subplot(1, 2, 2)\n",
    "plt.plot(fpr_test, tpr_test, color='darkorange', lw=2, label='ROC curve (AUC = {:.2f})'.format(roc_auc_test))\n",
    "plt.plot([0, 1], [0, 1], color='navy', lw=2, linestyle='--')\n",
    "plt.xlim([0.0, 1.0])\n",
    "plt.ylim([0.0, 1.05])\n",
    "plt.xlabel('False Positive Rate')\n",
    "plt.ylabel('True Positive Rate')\n",
    "plt.title('Receiver Operating Characteristic (ROC) Curve TEST')\n",
    "plt.legend(loc='lower right')\n",
    "\n",
    "# Adjust layout and save the plot\n",
    "plt.tight_layout()\n",
    "plt.show()"
   ]
  },
  {
   "cell_type": "code",
   "execution_count": 57,
   "id": "e545a19f-004a-4522-8e79-571b51ae3025",
   "metadata": {},
   "outputs": [
    {
     "name": "stdout",
     "output_type": "stream",
     "text": [
      "Intercepts: [6.65507414]\n",
      "Coefficients (Weights) for each Feature:\n",
      "(13, 3)\n"
     ]
    },
    {
     "data": {
      "text/html": [
       "<div>\n",
       "<style scoped>\n",
       "    .dataframe tbody tr th:only-of-type {\n",
       "        vertical-align: middle;\n",
       "    }\n",
       "\n",
       "    .dataframe tbody tr th {\n",
       "        vertical-align: top;\n",
       "    }\n",
       "\n",
       "    .dataframe thead th {\n",
       "        text-align: right;\n",
       "    }\n",
       "</style>\n",
       "<table border=\"1\" class=\"dataframe\">\n",
       "  <thead>\n",
       "    <tr style=\"text-align: right;\">\n",
       "      <th></th>\n",
       "      <th>feature</th>\n",
       "      <th>coeff</th>\n",
       "      <th>abs_coeff</th>\n",
       "    </tr>\n",
       "  </thead>\n",
       "  <tbody>\n",
       "    <tr>\n",
       "      <th>6</th>\n",
       "      <td>count_trans_positive</td>\n",
       "      <td>-3.238147</td>\n",
       "      <td>3.238147</td>\n",
       "    </tr>\n",
       "    <tr>\n",
       "      <th>2</th>\n",
       "      <td>sum_credits</td>\n",
       "      <td>2.633722</td>\n",
       "      <td>2.633722</td>\n",
       "    </tr>\n",
       "    <tr>\n",
       "      <th>4</th>\n",
       "      <td>count_trans</td>\n",
       "      <td>1.295017</td>\n",
       "      <td>1.295017</td>\n",
       "    </tr>\n",
       "    <tr>\n",
       "      <th>8</th>\n",
       "      <td>gender</td>\n",
       "      <td>0.936793</td>\n",
       "      <td>0.936793</td>\n",
       "    </tr>\n",
       "    <tr>\n",
       "      <th>3</th>\n",
       "      <td>sum_payments</td>\n",
       "      <td>0.798902</td>\n",
       "      <td>0.798902</td>\n",
       "    </tr>\n",
       "    <tr>\n",
       "      <th>9</th>\n",
       "      <td>age</td>\n",
       "      <td>-0.316036</td>\n",
       "      <td>0.316036</td>\n",
       "    </tr>\n",
       "    <tr>\n",
       "      <th>1</th>\n",
       "      <td>net_amount</td>\n",
       "      <td>0.291867</td>\n",
       "      <td>0.291867</td>\n",
       "    </tr>\n",
       "    <tr>\n",
       "      <th>11</th>\n",
       "      <td>recent_bscore</td>\n",
       "      <td>-0.221274</td>\n",
       "      <td>0.221274</td>\n",
       "    </tr>\n",
       "    <tr>\n",
       "      <th>5</th>\n",
       "      <td>count_trans_negative</td>\n",
       "      <td>-0.220231</td>\n",
       "      <td>0.220231</td>\n",
       "    </tr>\n",
       "    <tr>\n",
       "      <th>0</th>\n",
       "      <td>loan_amt</td>\n",
       "      <td>-0.203939</td>\n",
       "      <td>0.203939</td>\n",
       "    </tr>\n",
       "    <tr>\n",
       "      <th>7</th>\n",
       "      <td>latest_balance_log</td>\n",
       "      <td>0.133214</td>\n",
       "      <td>0.133214</td>\n",
       "    </tr>\n",
       "    <tr>\n",
       "      <th>12</th>\n",
       "      <td>avg_bscore</td>\n",
       "      <td>0.084269</td>\n",
       "      <td>0.084269</td>\n",
       "    </tr>\n",
       "    <tr>\n",
       "      <th>10</th>\n",
       "      <td>income</td>\n",
       "      <td>-0.017811</td>\n",
       "      <td>0.017811</td>\n",
       "    </tr>\n",
       "  </tbody>\n",
       "</table>\n",
       "</div>"
      ],
      "text/plain": [
       "                 feature     coeff  abs_coeff\n",
       "6   count_trans_positive -3.238147   3.238147\n",
       "2            sum_credits  2.633722   2.633722\n",
       "4            count_trans  1.295017   1.295017\n",
       "8                 gender  0.936793   0.936793\n",
       "3           sum_payments  0.798902   0.798902\n",
       "9                    age -0.316036   0.316036\n",
       "1             net_amount  0.291867   0.291867\n",
       "11         recent_bscore -0.221274   0.221274\n",
       "5   count_trans_negative -0.220231   0.220231\n",
       "0               loan_amt -0.203939   0.203939\n",
       "7     latest_balance_log  0.133214   0.133214\n",
       "12            avg_bscore  0.084269   0.084269\n",
       "10                income -0.017811   0.017811"
      ]
     },
     "execution_count": 57,
     "metadata": {},
     "output_type": "execute_result"
    }
   ],
   "source": [
    "# Extract coefficients \n",
    "coefficients = logreg.coef_\n",
    "intercepts = logreg.intercept_\n",
    "feature_names = list(X_train.columns)\n",
    "\n",
    "# Create a mapping of feature names to their coefficients using a dictionary comprehension\n",
    "feature_coefficients = {feature_names[i]: coefficients[:, i] for i in range(len(feature_names))}\n",
    "\n",
    "# Create a DataFrame from the feature_coefficients dictionary\n",
    "df_coef = pd.DataFrame(feature_coefficients).T\n",
    "df_coef = df_coef.reset_index()\n",
    "df_coef.columns = ['feature', 'coeff']\n",
    "\n",
    "df_coef['abs_coeff'] = abs(df_coef.coeff)\n",
    "print(f\"Intercepts: {intercepts}\")\n",
    "print(\"Coefficients (Weights) for each Feature:\")\n",
    "print(df_coef.shape)\n",
    "df_coef.sort_values(by='abs_coeff', ascending=False)"
   ]
  },
  {
   "cell_type": "markdown",
   "id": "0e7cea9f-08a9-48a1-b371-df1bb161eff9",
   "metadata": {},
   "source": [
    "About the interpretability and valence of the features, the table above shows how \n",
    "having a higher credits received (sum_credits) increase the odds of having a loan. Same logic is applied for number of transactions (count_trans) and sum payments with lower coefficients. As expected, also a higher net amount and positive balance (latest_balance_log) increase the chance to be approachable for a loan.\n",
    "Differently, a higher number of transactions both received and made (count_trans_positive, count_trans_negative), a higher balance score (recent_bscore as risk of financial instability), and a higher amount of loan requested (loan_amt) decrease the odds of loan approval. \n",
    "Additionally, being female and younger (gender and age) are associated with higher probabilities to be associated with target 1."
   ]
  },
  {
   "cell_type": "markdown",
   "id": "32364930-cb3d-4db8-a683-e527d500787c",
   "metadata": {},
   "source": [
    "# Question 7: Hypothetically, could you improve the solution? What would you require for it?"
   ]
  },
  {
   "cell_type": "markdown",
   "id": "ed38c31b-9543-4e6f-b7dd-d2b6bc9e056c",
   "metadata": {},
   "source": [
    "FUTURE DIRECTIONS\n",
    "1) Retrieve More Data: collecting more data to get a more comprehensive understanding of the patterns and relationships within the data.\n",
    "2) Creation of the Target Variable: Explore alternative methods for defining the target variable (i.e., taking the average of outcomes to classify target 1 and 0 instead of the most recent date).\n",
    "3) Improve Feature Engineering: Split features based on time (e.g., monthly) to analyze the progression of variables over time. \n",
    "4) Binning: Treat features by converting them into categorical instead of continuous (and processed with standardization).  \n",
    "4) Creation of Credit Score: Develop a credit scoring formula by tuning the weight of the variables extracted (e.g., using grid search to find the optimal combination of weights that maximize the correlation with the target variable).\n",
    "5) Balanced Approach in Train/Test split: Utilize a more balanced approach (e.g., retrieving more data or by employing techniques like oversampling).\n",
    "6) Explore Different Models: Experiment different ML models besides logistic regression (e.g., random forrest)"
   ]
  }
 ],
 "metadata": {
  "kernelspec": {
   "display_name": "Python 3 (ipykernel)",
   "language": "python",
   "name": "python3"
  },
  "language_info": {
   "codemirror_mode": {
    "name": "ipython",
    "version": 3
   },
   "file_extension": ".py",
   "mimetype": "text/x-python",
   "name": "python",
   "nbconvert_exporter": "python",
   "pygments_lexer": "ipython3",
   "version": "3.7.6"
  }
 },
 "nbformat": 4,
 "nbformat_minor": 5
}
